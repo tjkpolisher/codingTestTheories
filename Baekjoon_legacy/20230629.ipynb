{
 "cells": [
  {
   "cell_type": "code",
   "execution_count": 9,
   "metadata": {},
   "outputs": [
    {
     "name": "stdout",
     "output_type": "stream",
     "text": [
      "1089\n"
     ]
    }
   ],
   "source": [
    "# 2903: 중앙 이동 알고리즘\n",
    "# 특이사항: 다국어 (영어)(한국어 번역)\n",
    "N = int(input())\n",
    "pow_2 = [2 ** i for i in range(N)]\n",
    "print((2 + sum(pow_2)) ** 2)"
   ]
  },
  {
   "cell_type": "code",
   "execution_count": 12,
   "metadata": {},
   "outputs": [
    {
     "name": "stdout",
     "output_type": "stream",
     "text": [
      "12\n"
     ]
    }
   ],
   "source": [
    "# 2921: 도미노\n",
    "# 특이사항: 다국어 (영어)(한국어 번역)\n",
    "N = int(input())\n",
    "dots = []\n",
    "for i in range(N+1):\n",
    "    for j in range(i+1):\n",
    "        dots.append(i + j)\n",
    "print(sum(dots))"
   ]
  },
  {
   "cell_type": "code",
   "execution_count": 13,
   "metadata": {},
   "outputs": [
    {
     "name": "stdout",
     "output_type": "stream",
     "text": [
      "1010\n"
     ]
    }
   ],
   "source": [
    "# 2935: 소음\n",
    "# 특이사항: 다국어 (영어)(한국어 번역)\n",
    "A = int(input())\n",
    "op = input()\n",
    "B = int(input())\n",
    "if op == \"+\":\n",
    "    print(A + B)\n",
    "elif op == \"*\":\n",
    "    print(A * B)"
   ]
  },
  {
   "cell_type": "code",
   "execution_count": 14,
   "metadata": {},
   "outputs": [
    {
     "name": "stdout",
     "output_type": "stream",
     "text": [
      "4 19\n"
     ]
    }
   ],
   "source": [
    "# 2953: 나는 요리사다\n",
    "# 특이사항: 다국어 (영어)(한국어 번역)\n",
    "score_list = []\n",
    "for i in range(5):\n",
    "    score = sum(map(int, input().split()))\n",
    "    score_list.append(score)\n",
    "print(score_list.index(max(score_list)) + 1, max(score_list))"
   ]
  },
  {
   "cell_type": "code",
   "execution_count": 18,
   "metadata": {},
   "outputs": [
    {
     "name": "stdout",
     "output_type": "stream",
     "text": [
      "12\n"
     ]
    }
   ],
   "source": [
    "# 2959: 거북이\n",
    "# 특이사항: 다국어 (영어)(한국어 번역)\n",
    "A, B, C, D = map(int, input().split())\n",
    "paves = sorted([A, B, C, D])\n",
    "print(paves[-2] * paves[0])"
   ]
  },
  {
   "cell_type": "code",
   "execution_count": 21,
   "metadata": {},
   "outputs": [
    {
     "name": "stdout",
     "output_type": "stream",
     "text": [
      "3\n"
     ]
    }
   ],
   "source": [
    "# 2959: 캥거루 세마리\n",
    "# 특이사항: 다국어 (영어)(한국어 번역)\n",
    "A, B, C = map(int, input().split())\n",
    "distance = [B - A - 1, C - B - 1]\n",
    "for i, d in enumerate(distance):\n",
    "    if d < 0:\n",
    "        distance[i] = 0\n",
    "print(max(distance))"
   ]
  },
  {
   "cell_type": "code",
   "execution_count": 31,
   "metadata": {},
   "outputs": [
    {
     "name": "stdout",
     "output_type": "stream",
     "text": [
      "18/3=6\n"
     ]
    },
    {
     "data": {
      "text/plain": [
       "<function round(number, ndigits=None)>"
      ]
     },
     "execution_count": 31,
     "metadata": {},
     "output_type": "execute_result"
    }
   ],
   "source": [
    "# 2985: 세 수\n",
    "# 특이사항: 다국어 (영어)(한국어 번역)\n",
    "A, B, C = map(int, input().split())\n",
    "if B >= A and B >= C:\n",
    "    op1 = \"=\"\n",
    "    if round(B / C, 3) == A:\n",
    "        op2 = \"/\"\n",
    "    elif B * C == A:\n",
    "        op2 = \"*\"\n",
    "    elif B + C == A:\n",
    "        op2 = \"+\"\n",
    "    else:\n",
    "        op2 = \"-\"\n",
    "else:\n",
    "    op2 = \"=\"\n",
    "    if round(A / B, 3) == C:\n",
    "        op1 = \"/\"\n",
    "    elif A * B == C:\n",
    "        op1 = \"*\"\n",
    "    elif A + B == C:\n",
    "        op1 = \"+\"\n",
    "    else:\n",
    "        op1 = \"-\"\n",
    "print(f\"{A}{op1}{B}{op2}{C}\")"
   ]
  },
  {
   "cell_type": "code",
   "execution_count": 35,
   "metadata": {},
   "outputs": [
    {
     "name": "stdout",
     "output_type": "stream",
     "text": [
      "1\n",
      "0\n",
      "0\n"
     ]
    }
   ],
   "source": [
    "# 2991: 사나운 개\n",
    "# 특이사항: 다국어 (영어)(한국어 번역)\n",
    "A, B, C, D = map(int, input().split())\n",
    "P, M, N = map(int, input().split())\n",
    "pmn = [P, M, N]\n",
    "for i in range(3):\n",
    "    bark = 0\n",
    "    if pmn[i] % (A + B) in list(range(1, A+1)):\n",
    "        bark += 1\n",
    "    \n",
    "    if pmn[i] % (C + D) in list(range(1, C+1)):\n",
    "        bark += 1\n",
    "    print(bark)"
   ]
  },
  {
   "cell_type": "code",
   "execution_count": null,
   "metadata": {},
   "outputs": [],
   "source": []
  }
 ],
 "metadata": {
  "kernelspec": {
   "display_name": "base",
   "language": "python",
   "name": "python3"
  },
  "language_info": {
   "codemirror_mode": {
    "name": "ipython",
    "version": 3
   },
   "file_extension": ".py",
   "mimetype": "text/x-python",
   "name": "python",
   "nbconvert_exporter": "python",
   "pygments_lexer": "ipython3",
   "version": "3.10.9"
  },
  "orig_nbformat": 4
 },
 "nbformat": 4,
 "nbformat_minor": 2
}
