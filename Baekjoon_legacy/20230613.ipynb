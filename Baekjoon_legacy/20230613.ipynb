{
 "cells": [
  {
   "cell_type": "code",
   "execution_count": 32,
   "metadata": {},
   "outputs": [
    {
     "name": "stdout",
     "output_type": "stream",
     "text": [
      "Bus\n"
     ]
    }
   ],
   "source": [
    "# 28113: 정보섬의 대중교통\n",
    "N, A, B = map(int, input().split())\n",
    "if A == B and N <= B:\n",
    "    print(\"Anything\")\n",
    "elif A < B or N > B:\n",
    "    print(\"Bus\")\n",
    "else:\n",
    "    print(\"Subway\")"
   ]
  },
  {
   "cell_type": "code",
   "execution_count": 35,
   "metadata": {},
   "outputs": [
    {
     "name": "stdout",
     "output_type": "stream",
     "text": [
      "No\n"
     ]
    }
   ],
   "source": [
    "# 27959: 초코바\n",
    "N, M = map(int, input().split())\n",
    "if N * 100 >= M:\n",
    "    print(\"Yes\")\n",
    "else:\n",
    "    print(\"No\")"
   ]
  },
  {
   "cell_type": "code",
   "execution_count": 36,
   "metadata": {},
   "outputs": [
    {
     "name": "stdout",
     "output_type": "stream",
     "text": [
      "North London Collegiate School\n"
     ]
    }
   ],
   "source": [
    "# 27889: 특별한 학교 이름\n",
    "institute = input()\n",
    "dictionary = {\"NLCS\": \"North London Collegiate School\",\n",
    "              \"BHA\":\"Branksome Hall Asia\",\n",
    "              \"KIS\":\"Korea International School\",\n",
    "              \"SJA\":\"St. Johnsbury Academy\"}\n",
    "print(dictionary[institute])"
   ]
  },
  {
   "cell_type": "code",
   "execution_count": 38,
   "metadata": {},
   "outputs": [
    {
     "name": "stdout",
     "output_type": "stream",
     "text": [
      "1\n"
     ]
    }
   ],
   "source": [
    "# 27434: 팩토리얼 3\n",
    "# 특이사항: 언어 제한\n",
    "# Python 3 유저들은 Pypy로 풀면 됩니다.\n",
    "N = int(input())\n",
    "answer = 1\n",
    "if N == 0:\n",
    "    print(1)\n",
    "else:\n",
    "    for i in range(1, N+1):\n",
    "        answer *= i\n",
    "    print(answer)\n",
    "    \n",
    "\"\"\"\n",
    "모범답안\n",
    "import math\n",
    "a = input()\n",
    "print(math.factorial(int(a)))\n",
    "\"\"\""
   ]
  },
  {
   "cell_type": "code",
   "execution_count": 39,
   "metadata": {},
   "outputs": [
    {
     "name": "stdout",
     "output_type": "stream",
     "text": [
      "3628800\n"
     ]
    }
   ],
   "source": [
    "# 27433: 팩토리얼 2\n",
    "import math\n",
    "N = int(input())\n",
    "print(math.factorial(N))"
   ]
  },
  {
   "cell_type": "code",
   "execution_count": 42,
   "metadata": {},
   "outputs": [
    {
     "name": "stdout",
     "output_type": "stream",
     "text": [
      "280\n"
     ]
    }
   ],
   "source": [
    "# 27294: 몇개고?\n",
    "T, S = map(int, input().split())\n",
    "if S == 1:\n",
    "    rice = 280\n",
    "elif T <= 11 or T > 16:\n",
    "    rice = 280\n",
    "else:\n",
    "    rice = 320\n",
    "print(rice)"
   ]
  },
  {
   "cell_type": "code",
   "execution_count": 44,
   "metadata": {},
   "outputs": [
    {
     "name": "stdout",
     "output_type": "stream",
     "text": [
      "2400\n"
     ]
    }
   ],
   "source": [
    "# 27327: 時間 (Hour)\n",
    "# 특이사항: 다국어 (일본어)\n",
    "x = int(input())\n",
    "print(24 * x)"
   ]
  },
  {
   "cell_type": "code",
   "execution_count": 45,
   "metadata": {},
   "outputs": [
    {
     "name": "stdout",
     "output_type": "stream",
     "text": [
      "yes\n",
      "no\n",
      "no\n"
     ]
    }
   ],
   "source": [
    "# 25372: 성택이의 은밀한 비밀번호\n",
    "N = int(input())\n",
    "for i in range(N):\n",
    "    password = input()\n",
    "    length = len(password)\n",
    "    if length>=6 and length<=9:\n",
    "        print(\"yes\")\n",
    "    else:\n",
    "        print(\"no\")"
   ]
  },
  {
   "cell_type": "code",
   "execution_count": 48,
   "metadata": {},
   "outputs": [
    {
     "name": "stdout",
     "output_type": "stream",
     "text": [
      "210\n"
     ]
    }
   ],
   "source": [
    "# 26082: WARBOY\n",
    "A, B, C = map(int, input().split())\n",
    "compete_ratio = B / A\n",
    "warboy_ratio = 3 * compete_ratio\n",
    "warboy_performance = int(warboy_ratio * C)\n",
    "print(warboy_performance)"
   ]
  },
  {
   "cell_type": "code",
   "execution_count": 54,
   "metadata": {},
   "outputs": [
    {
     "name": "stdout",
     "output_type": "stream",
     "text": [
      "0\n"
     ]
    }
   ],
   "source": [
    "# 25238: 가희와 방어율 무시\n",
    "# 특이사항: 부동소수점 문제로 인해 마지막 테스트 케이스(500 80)에서 체감 방어율이 100임에도 불구하고 공격 가능 판정이 나옵니다.\n",
    "# 미리 적절한 소수점 자리에서 반올림을 한 후에 계산하면 제대로 결과가 출력됩니다.\n",
    "a, b = map(int, input().split())\n",
    "rate = round(a * (1 - b/100), ndigits=8)\n",
    "if rate >= 100:\n",
    "    print(0)\n",
    "else:\n",
    "    print(1)"
   ]
  },
  {
   "cell_type": "code",
   "execution_count": null,
   "metadata": {},
   "outputs": [],
   "source": []
  }
 ],
 "metadata": {
  "kernelspec": {
   "display_name": "base",
   "language": "python",
   "name": "python3"
  },
  "language_info": {
   "codemirror_mode": {
    "name": "ipython",
    "version": 3
   },
   "file_extension": ".py",
   "mimetype": "text/x-python",
   "name": "python",
   "nbconvert_exporter": "python",
   "pygments_lexer": "ipython3",
   "version": "3.10.9"
  },
  "orig_nbformat": 4
 },
 "nbformat": 4,
 "nbformat_minor": 2
}
