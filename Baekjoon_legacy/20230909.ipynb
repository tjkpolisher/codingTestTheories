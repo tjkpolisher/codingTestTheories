{
 "cells": [
  {
   "cell_type": "code",
   "execution_count": 2,
   "metadata": {},
   "outputs": [
    {
     "name": "stdout",
     "output_type": "stream",
     "text": [
      "767637\n"
     ]
    }
   ],
   "source": [
    "# 1731: 추론\n",
    "N = int(input())\n",
    "sequence = []\n",
    "for i in range(N):\n",
    "    sequence.append(int(input()))\n",
    "\n",
    "if sequence[1] - sequence[0] == sequence[2] - sequence[1]:\n",
    "    d = sequence[1] - sequence[0]\n",
    "    answer = sequence[-1] + d\n",
    "elif sequence[1] / sequence[0] == sequence[2] / sequence[1]:\n",
    "    r = sequence[1] / sequence[0]\n",
    "    answer = int(sequence[-1] * r)\n",
    "\n",
    "print(answer)"
   ]
  },
  {
   "cell_type": "code",
   "execution_count": 17,
   "metadata": {},
   "outputs": [
    {
     "name": "stdout",
     "output_type": "stream",
     "text": [
      "7\n"
     ]
    }
   ],
   "source": [
    "# 1773: 폭죽쇼\n",
    "# 특이사항: 다국어 (영어)(한국어 번역)\n",
    "N, C = map(int,input().split())\n",
    "fireworks = set()\n",
    "\n",
    "for _ in range(N):\n",
    "    period = int(input())\n",
    "    fireworks.update(range(period,C+1,period))\n",
    "\n",
    "print(len(fireworks))\n",
    "\"\"\"import sys\n",
    "input = sys.stdin.readline\n",
    "n, c = map(int,input().split())\n",
    "t = [0] * c\n",
    "x = {int(input()) for _ in range(n)}\n",
    "if 1 in x:\n",
    "    print(c)\n",
    "    quit()\n",
    "for i in x:\n",
    "    t[i-1::i] = [1] * (c//i)\n",
    "print(sum(t))\n",
    "\"\"\""
   ]
  },
  {
   "cell_type": "code",
   "execution_count": null,
   "metadata": {},
   "outputs": [],
   "source": []
  }
 ],
 "metadata": {
  "kernelspec": {
   "display_name": "base",
   "language": "python",
   "name": "python3"
  },
  "language_info": {
   "codemirror_mode": {
    "name": "ipython",
    "version": 3
   },
   "file_extension": ".py",
   "mimetype": "text/x-python",
   "name": "python",
   "nbconvert_exporter": "python",
   "pygments_lexer": "ipython3",
   "version": "3.9.13"
  },
  "orig_nbformat": 4
 },
 "nbformat": 4,
 "nbformat_minor": 2
}
