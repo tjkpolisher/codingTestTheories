{
 "cells": [
  {
   "cell_type": "code",
   "execution_count": 14,
   "metadata": {},
   "outputs": [
    {
     "name": "stdout",
     "output_type": "stream",
     "text": [
      "601\n"
     ]
    }
   ],
   "source": [
    "# 10250\n",
    "T = int(input())\n",
    "for i in range(T):\n",
    "    H, W, N = map(int, input().split())\n",
    "    floor_numb = H if N % H == 0 else N % H\n",
    "    room_numb = N // H if N % H == 0 else N // H + 1\n",
    "    if room_numb // 10 == 0:\n",
    "        room = f\"{floor_numb}0{room_numb}\"\n",
    "    else:\n",
    "        room = f\"{floor_numb}{room_numb}\"\n",
    "    print(room)"
   ]
  },
  {
   "cell_type": "code",
   "execution_count": 16,
   "metadata": {},
   "outputs": [
    {
     "name": "stdout",
     "output_type": "stream",
     "text": [
      "1 0 -1 -1 2 -1 -1 -1 -1 4 3 -1 -1 7 5 -1 -1 -1 -1 -1 -1 -1 -1 -1 -1 -1 "
     ]
    }
   ],
   "source": [
    "# 10809\n",
    "S = input()\n",
    "alphabet = ('a', 'b', 'c', 'd', 'e', 'f', 'g',\n",
    "            'h', 'i', 'j', 'k', 'l', 'm', 'n',\n",
    "            'o', 'p', 'q', 'r', 's', 't', 'u',\n",
    "            'v', 'w', 'x', 'y', 'z')\n",
    "for i in range(len(alphabet)):\n",
    "    string = -1 if S.count(alphabet[i])==0 else S.index(alphabet[i])\n",
    "    print(string, end=' ')"
   ]
  },
  {
   "cell_type": "code",
   "execution_count": 18,
   "metadata": {},
   "outputs": [
    {
     "name": "stdout",
     "output_type": "stream",
     "text": [
      "10\n",
      "9\n",
      "7\n",
      "55\n",
      "30\n"
     ]
    }
   ],
   "source": [
    "# 8958\n",
    "N = int(input())\n",
    "for i in range(N):\n",
    "    result = input()\n",
    "    score = 0\n",
    "    counter = 0\n",
    "    for j in range(len(result)):\n",
    "        if result[j]=='X':\n",
    "            counter = 0\n",
    "        else:\n",
    "            counter += 1\n",
    "            score += counter\n",
    "    print(score)"
   ]
  },
  {
   "cell_type": "code",
   "execution_count": 20,
   "metadata": {},
   "outputs": [
    {
     "name": "stdout",
     "output_type": "stream",
     "text": [
      "right\n",
      "wrong\n",
      "right\n"
     ]
    }
   ],
   "source": [
    "# 4153\n",
    "while True:\n",
    "    sides = list(map(int, input().split()))\n",
    "    sides.sort()\n",
    "    a, b, c = sides[0], sides[1], sides[2]\n",
    "    if a==0 and b==0 and c==0:\n",
    "        break\n",
    "    \n",
    "    if c ** 2 == a ** 2 + b ** 2:\n",
    "        print('right')\n",
    "    else:\n",
    "        print('wrong')"
   ]
  },
  {
   "cell_type": "code",
   "execution_count": 25,
   "metadata": {},
   "outputs": [
    {
     "name": "stdout",
     "output_type": "stream",
     "text": [
      "3\n"
     ]
    }
   ],
   "source": [
    "# 1978\n",
    "N = int(input())\n",
    "numbers = list(map(int, input().split()))\n",
    "counter = 0\n",
    "for num in numbers:\n",
    "    cnt = 0\n",
    "    if num > 1:\n",
    "        for i in range(2, num):\n",
    "            if num % i == 0:\n",
    "                cnt += 1\n",
    "        \n",
    "        if cnt == 0:\n",
    "            counter += 1\n",
    "print(counter)"
   ]
  },
  {
   "cell_type": "code",
   "execution_count": null,
   "metadata": {},
   "outputs": [],
   "source": [
    "# 2231\n",
    "N = int(input())\n",
    "for i in range(1, N+1):\n",
    "    num = sum((map(int, str(i))))\n",
    "    num_sum = i + num\n",
    "    \n",
    "    if num_sum == N:\n",
    "        print(i)\n",
    "        break\n",
    "    if i == N:\n",
    "        print(0)"
   ]
  },
  {
   "cell_type": "code",
   "execution_count": 28,
   "metadata": {},
   "outputs": [
    {
     "name": "stdout",
     "output_type": "stream",
     "text": [
      "7\n",
      "14\n",
      "9\n"
     ]
    }
   ],
   "source": [
    "# 1264\n",
    "while True:\n",
    "    S = input().lower()\n",
    "    if S == \"#\":\n",
    "        break\n",
    "    print(S.count(\"a\") + S.count(\"e\") +\n",
    "          S.count(\"i\") + S.count(\"o\") +\n",
    "          S.count(\"u\"))"
   ]
  },
  {
   "cell_type": "code",
   "execution_count": 29,
   "metadata": {},
   "outputs": [
    {
     "name": "stdout",
     "output_type": "stream",
     "text": [
      "Joe Junior\n",
      "Bill Senior\n",
      "Billy Junior\n",
      "Sam Senior\n"
     ]
    }
   ],
   "source": [
    "# 2083\n",
    "while True:\n",
    "    name, age, weight = input().split()\n",
    "    if name == \"#\":\n",
    "        break\n",
    "    age, weight = int(age), int(weight)\n",
    "    if age > 17 or weight >= 80:\n",
    "        division = \"Senior\"\n",
    "    else:\n",
    "        division = \"Junior\"\n",
    "    print(f\"{name} {division}\")"
   ]
  },
  {
   "cell_type": "code",
   "execution_count": 30,
   "metadata": {},
   "outputs": [
    {
     "name": "stdout",
     "output_type": "stream",
     "text": [
      "*****\n",
      "****\n",
      "***\n",
      "**\n",
      "*\n"
     ]
    }
   ],
   "source": [
    "# 2440\n",
    "N = int(input())\n",
    "for i in range(N):\n",
    "    print(\"*\" * (N - i))"
   ]
  },
  {
   "cell_type": "code",
   "execution_count": 38,
   "metadata": {},
   "outputs": [
    {
     "name": "stdout",
     "output_type": "stream",
     "text": [
      "[0, 3, 0, 0, 0, 0]\n",
      "12000\n"
     ]
    }
   ],
   "source": [
    "# 2480\n",
    "dice = list(map(int, input().split()))\n",
    "counts = [dice.count(i) for i in range(1, 7)]\n",
    "if 3 in counts:\n",
    "    reward = 10000 + (counts.index(3) + 1) * 1000\n",
    "elif 2 in counts:\n",
    "    reward = 1000 + (counts.index(2) + 1) * 100\n",
    "else:\n",
    "    reward = max(dice) * 100\n",
    "print(reward)"
   ]
  },
  {
   "cell_type": "code",
   "execution_count": null,
   "metadata": {},
   "outputs": [],
   "source": []
  }
 ],
 "metadata": {
  "kernelspec": {
   "display_name": "base",
   "language": "python",
   "name": "python3"
  },
  "language_info": {
   "codemirror_mode": {
    "name": "ipython",
    "version": 3
   },
   "file_extension": ".py",
   "mimetype": "text/x-python",
   "name": "python",
   "nbconvert_exporter": "python",
   "pygments_lexer": "ipython3",
   "version": "3.10.9"
  },
  "orig_nbformat": 4
 },
 "nbformat": 4,
 "nbformat_minor": 2
}
