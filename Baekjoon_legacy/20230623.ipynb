{
 "cells": [
  {
   "cell_type": "code",
   "execution_count": 3,
   "metadata": {},
   "outputs": [
    {
     "name": "stdout",
     "output_type": "stream",
     "text": [
      "12000\n"
     ]
    }
   ],
   "source": [
    "# 2476: 주사위 게임\n",
    "N = int(input())\n",
    "dice = list(range(1, 7))\n",
    "price = []\n",
    "for i in range(N):\n",
    "    num = []\n",
    "    abc = list(map(int, input().split()))\n",
    "    for j in range(6):\n",
    "        num.append(abc.count(dice[j]))\n",
    "    if max(num) == 3:\n",
    "        price.append(10000 + 1000 * (num.index(max(num)) + 1))\n",
    "    elif max(num) == 2:\n",
    "        price.append(1000 + 100 * (num.index(max(num)) + 1))\n",
    "    else:\n",
    "        price.append(max(abc) * 100)\n",
    "print(max(price))"
   ]
  },
  {
   "cell_type": "code",
   "execution_count": 8,
   "metadata": {},
   "outputs": [
    {
     "name": "stdout",
     "output_type": "stream",
     "text": [
      "1\n"
     ]
    }
   ],
   "source": [
    "# 2501: 약수 구하기\n",
    "N, K = map(int, input().split())\n",
    "nums = []\n",
    "for i in range(N):\n",
    "    if N % (i + 1) == 0:\n",
    "        nums.append(i + 1)\n",
    "    else:\n",
    "        pass\n",
    "    \n",
    "    if len(nums) == K:\n",
    "        break\n",
    "if len(nums) < K:\n",
    "    print(0)\n",
    "else:\n",
    "    print(nums[-1])"
   ]
  },
  {
   "cell_type": "code",
   "execution_count": 12,
   "metadata": {},
   "outputs": [
    {
     "name": "stdout",
     "output_type": "stream",
     "text": [
      "10\n"
     ]
    }
   ],
   "source": [
    "# 2506: 점수계산\n",
    "N = int(input())\n",
    "ox = list(map(int, input().split()))\n",
    "score = []\n",
    "score_temp = 0\n",
    "for idx, result in enumerate(ox):\n",
    "    if result == 1:\n",
    "        score_temp += 1\n",
    "    elif result==0 or idx==len(ox)+1:\n",
    "        score_temp = 0\n",
    "    score.append(score_temp)\n",
    "print(sum(score))"
   ]
  },
  {
   "cell_type": "code",
   "execution_count": 16,
   "metadata": {},
   "outputs": [
    {
     "name": "stdout",
     "output_type": "stream",
     "text": [
      "2.2046 lb\n",
      "0.5284 g\n",
      "3.1752 kg\n",
      "13.2489 l\n",
      "0.0000 g\n"
     ]
    }
   ],
   "source": [
    "# 2712: 미국 스타일\n",
    "# 특이사항: 다국어 (영어)(한국어 번역)\n",
    "T = int(input())\n",
    "for i in range(T):\n",
    "    v, unit = input().split()\n",
    "    v = float(v)\n",
    "    if unit=='kg':\n",
    "        v *= 2.2046\n",
    "        unit='lb'\n",
    "    elif unit=='lb':\n",
    "        v *= 0.4536\n",
    "        unit='kg'\n",
    "    elif unit=='l':\n",
    "        v *= 0.2642\n",
    "        unit = 'g'\n",
    "    elif unit=='g':\n",
    "        v *= 3.7854\n",
    "        unit = 'l'\n",
    "    print(f\"{v:.4f} {unit}\")"
   ]
  },
  {
   "cell_type": "code",
   "execution_count": 19,
   "metadata": {},
   "outputs": [
    {
     "name": "stdout",
     "output_type": "stream",
     "text": [
      "4 2 0 4\n",
      "1 0 0 0\n",
      "7 1 1 4\n"
     ]
    }
   ],
   "source": [
    "# 2720: 세탁소 사장 동혁\n",
    "# 특이사항: 다국어 (영어)(한국어 번역)\n",
    "T = int(input())\n",
    "for i in range(T):\n",
    "    C = int(input())\n",
    "    q = C // 25\n",
    "    d = (C % 25) // 10\n",
    "    n = (C % 25 % 10) // 5\n",
    "    p = C % 25 % 10 % 5\n",
    "    print(q, d, n, p)"
   ]
  },
  {
   "cell_type": "code",
   "execution_count": 26,
   "metadata": {},
   "outputs": [
    {
     "name": "stdout",
     "output_type": "stream",
     "text": [
      "String #1\n",
      "IBM\n",
      "\n",
      "String #2\n",
      "TXFSD\n"
     ]
    }
   ],
   "source": [
    "# 6321: IBM 빼기 1\n",
    "# 특이사항: 다국어 (영어)(한국어 번역)\n",
    "n = int(input())\n",
    "alphabets = list(\"ABCDEFGHIJKLMNOPQRSTUVWXYZ\")\n",
    "for i in range(n):\n",
    "    name_orig = input()\n",
    "    chrs = []\n",
    "    for j in range(len(name_orig)):\n",
    "        order = alphabets.index(name_orig[j])+1\n",
    "        if order == len(alphabets):\n",
    "            order = 0\n",
    "        chrs.append(alphabets[order])\n",
    "    name = ''.join(chrs)\n",
    "    print(f\"String #{i+1}\\n{name}\")\n",
    "    if i != n-1:\n",
    "        print()"
   ]
  },
  {
   "cell_type": "code",
   "execution_count": 27,
   "metadata": {},
   "outputs": [
    {
     "name": "stdout",
     "output_type": "stream",
     "text": [
      "Scenario #1:\n",
      "yes\n",
      "\n",
      "Scenario #2:\n",
      "no\n"
     ]
    }
   ],
   "source": [
    "# 7510: 고급 수학\n",
    "# 특이사항: 다국어 (영어)(한국어 번역)\n",
    "n = int(input())\n",
    "for i in range(n):\n",
    "    segment = list(map(int, input().split()))\n",
    "    max_len = max(segment)\n",
    "    segment.remove(max_len)\n",
    "    answer = \"yes\" if max_len ** 2 == segment[0] ** 2 + segment[1] ** 2 else \"no\"\n",
    "    print(f\"Scenario #{i+1}:\\n{answer}\")\n",
    "    if i != n-1:\n",
    "        print()"
   ]
  },
  {
   "cell_type": "code",
   "execution_count": 29,
   "metadata": {},
   "outputs": [
    {
     "name": "stdout",
     "output_type": "stream",
     "text": [
      "1 200.000000\n",
      "2 7.176829\n",
      "3 484.422500\n",
      "4 833.333333\n",
      "5 416.666667\n"
     ]
    }
   ],
   "source": [
    "# 9469: 폰 노이만\n",
    "# 특이사항: 스페셜 저지, 다국어 (영어)(한국어 번역)\n",
    "P = int(input())\n",
    "for i in range(P):\n",
    "    N, D, A, B, F = map(float, input().split())\n",
    "    t = D / (A + B)\n",
    "    d = F * t\n",
    "    print(f\"{int(N)} {d:.6f}\")"
   ]
  },
  {
   "cell_type": "code",
   "execution_count": null,
   "metadata": {},
   "outputs": [],
   "source": []
  }
 ],
 "metadata": {
  "kernelspec": {
   "display_name": "base",
   "language": "python",
   "name": "python3"
  },
  "language_info": {
   "codemirror_mode": {
    "name": "ipython",
    "version": 3
   },
   "file_extension": ".py",
   "mimetype": "text/x-python",
   "name": "python",
   "nbconvert_exporter": "python",
   "pygments_lexer": "ipython3",
   "version": "3.10.9"
  },
  "orig_nbformat": 4
 },
 "nbformat": 4,
 "nbformat_minor": 2
}
