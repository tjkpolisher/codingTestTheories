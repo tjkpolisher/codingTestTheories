{
 "cells": [
  {
   "cell_type": "code",
   "execution_count": 5,
   "metadata": {},
   "outputs": [
    {
     "name": "stdout",
     "output_type": "stream",
     "text": [
      "5\n"
     ]
    }
   ],
   "source": [
    "# 1233: 주사위\n",
    "# 특이사항: 다국어 (영어)(한국어 번역)\n",
    "s1, s2, s3 = map(int, input().split())\n",
    "summation = {}\n",
    "for i in range(1, s1+1):\n",
    "    for j in range(1, s2+1):\n",
    "        for k in range(1, s3+1):\n",
    "            key_name = str(i+j+k)\n",
    "            if key_name in summation.keys():\n",
    "                summation[key_name] += 1\n",
    "            else:\n",
    "                summation[key_name] = 1\n",
    "counts = list(summation.values())\n",
    "sums = list(summation.keys())\n",
    "answer = sums[counts.index(max(counts))]\n",
    "print(int(answer))"
   ]
  },
  {
   "cell_type": "code",
   "execution_count": 13,
   "metadata": {},
   "outputs": [
    {
     "name": "stdout",
     "output_type": "stream",
     "text": [
      "1011111\n"
     ]
    }
   ],
   "source": [
    "# 1252: 이진수 덧셈\n",
    "bin1, bin2 = input().split()\n",
    "bin1 = int(\"0b\" + bin1, 2)\n",
    "bin2 = int(\"0b\" + bin2, 2)\n",
    "print(bin(bin1 + bin2)[2:])"
   ]
  },
  {
   "cell_type": "code",
   "execution_count": 16,
   "metadata": {},
   "outputs": [
    {
     "name": "stdout",
     "output_type": "stream",
     "text": [
      "25 45\n"
     ]
    }
   ],
   "source": [
    "# 1297: TV 크기\n",
    "import math\n",
    "D, H, W = map(int, input().split())\n",
    "h = D * math.sin(math.atan(H / W))\n",
    "w = D * math.cos(math.atan(H / W))\n",
    "print(math.trunc(h), math.trunc(w))"
   ]
  },
  {
   "cell_type": "code",
   "execution_count": 31,
   "metadata": {},
   "outputs": [
    {
     "name": "stdout",
     "output_type": "stream",
     "text": [
      "40\n"
     ]
    }
   ],
   "source": [
    "# 1333: 부재중 전화\n",
    "# 특이사항: 한 블로거의 리뷰에 따르면, 브론즈 문제 중 체감 난이도 Top 10\n",
    "# 기여 실버를 줄 정도라고 하니, 문제 해석에 유의합시다!\n",
    "import math\n",
    "N, L, D = map(int, input().split())\n",
    "total = N * L + 5 * (N - 1)\n",
    "song = [False] * total # 노래가 나오는 시간대를 체크할 것임\n",
    "for i in range(0, total, L + 5): # 각 노래는 0 초부터 시작해서 L + 5 초마다 나온다.\n",
    "    for j in range(i, i + L): # 시작하는 부분 i부터 노래가 끝나는 부분인 i + L 전까지 체크\n",
    "        song[j] = True\n",
    "for i in range(0, total, D): # 0초부터 D초마다 노래가 나오는지 체크\n",
    "    if not song[i]:\n",
    "        print(i)\n",
    "        break\n",
    "else:\n",
    "    print(i + D)"
   ]
  },
  {
   "cell_type": "code",
   "execution_count": 35,
   "metadata": {},
   "outputs": [
    {
     "name": "stdout",
     "output_type": "stream",
     "text": [
      "114688\n"
     ]
    }
   ],
   "source": [
    "# 1350: 진짜 공간\n",
    "import math\n",
    "N = int(input())\n",
    "bytes = list(map(int, input().split()))\n",
    "bytes = [bytes[i] for i in range(len(bytes)) if bytes[i]]\n",
    "cluster = int(input())\n",
    "storage = [cluster * math.ceil(byte / cluster) for byte in bytes]\n",
    "print(sum(storage))"
   ]
  },
  {
   "cell_type": "code",
   "execution_count": 1,
   "metadata": {},
   "outputs": [
    {
     "name": "stdout",
     "output_type": "stream",
     "text": [
      "1 :-)\n",
      "2 :-(\n"
     ]
    }
   ],
   "source": [
    "# 1362:  펫\n",
    "# 특이사항: 다국어 (영어)(한국어 번역)\n",
    "scene_num = 0\n",
    "while True:\n",
    "    scene_num += 1\n",
    "    try:  # 예외 처리를 추가하여 입력 형식이 잘못된 경우를 처리\n",
    "        o, w = map(int, input().split())\n",
    "        if o == 0 and w == 0:\n",
    "            break\n",
    "    except ValueError:  # 입력 형식이 잘못된 경우 루프를 빠져나옴\n",
    "        break\n",
    "\n",
    "    while True:\n",
    "        try:  # 예외 처리를 추가하여 입력 형식이 잘못된 경우를 처리\n",
    "            action, n = input().split()\n",
    "            n = int(n)\n",
    "        except ValueError:  # 입력 형식이 잘못된 경우 루프를 빠져나옴\n",
    "            break\n",
    "\n",
    "        if action == \"#\":\n",
    "            break\n",
    "        \n",
    "        if w <= 0 or w > o * 2:\n",
    "            continue\n",
    "        elif action in [\"E\", \"F\"]:\n",
    "            if action == \"E\":\n",
    "                w -= n\n",
    "            elif action == \"F\":\n",
    "                w += n\n",
    "\n",
    "    if w <= 0  or w > o * 2:\n",
    "        print(scene_num, \"RIP\")\n",
    "    elif w > o * 0.5 and w < o * 2:\n",
    "        print(scene_num, \":-)\")\n",
    "    else:\n",
    "        print(scene_num, \":-(\")"
   ]
  }
 ],
 "metadata": {
  "kernelspec": {
   "display_name": "base",
   "language": "python",
   "name": "python3"
  },
  "language_info": {
   "codemirror_mode": {
    "name": "ipython",
    "version": 3
   },
   "file_extension": ".py",
   "mimetype": "text/x-python",
   "name": "python",
   "nbconvert_exporter": "python",
   "pygments_lexer": "ipython3",
   "version": "3.10.9"
  },
  "orig_nbformat": 4
 },
 "nbformat": 4,
 "nbformat_minor": 2
}
