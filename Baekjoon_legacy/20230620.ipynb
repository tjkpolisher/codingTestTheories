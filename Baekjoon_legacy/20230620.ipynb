{
 "cells": [
  {
   "cell_type": "code",
   "execution_count": 5,
   "metadata": {},
   "outputs": [
    {
     "name": "stdout",
     "output_type": "stream",
     "text": [
      "161\n"
     ]
    }
   ],
   "source": [
    "# 1085: 직사각형에서 탈출\n",
    "x, y, w, h = map(int, input().split())\n",
    "d_h = w - x if x >= round(w / 2, 3) else x\n",
    "d_v = h - y if y >= round(h / 2, 3) else y\n",
    "answer = d_h if d_h <= d_v else d_v\n",
    "print(answer)"
   ]
  },
  {
   "cell_type": "code",
   "execution_count": 9,
   "metadata": {},
   "outputs": [],
   "source": [
    "# 1247: 부호\n",
    "# 특이사항: sys.stdin.readline() 함수를 적극 활용합시다.\n",
    "'''for _ in range(3):\n",
    "    # N = int(input())\n",
    "    S = 0\n",
    "    for i in range(int(input())):\n",
    "        S += int(input())\n",
    "    \n",
    "    if S == 0:\n",
    "        print(0)\n",
    "    elif S > 0:\n",
    "        print(\"+\")\n",
    "    else:\n",
    "        print(\"-\")'''\n",
    "import sys\n",
    "\n",
    "for _ in range(3):\n",
    "    t = int(sys.stdin.readline())  # 입력된 테스트 케이스의 수를 읽어옵니다.\n",
    "    hap = 0  # 합을 저장할 변수를 초기화합니다.\n",
    "    for i in range(t):\n",
    "        hap += int(sys.stdin.readline())  # 테스트 케이스의 개수만큼 값을 입력받아 합을 계산합니다.\n",
    "    if hap == 0:\n",
    "        print('0')  # 합이 0이면 0을 출력합니다.\n",
    "    elif hap > 0:\n",
    "        print('+')  # 합이 양수이면 +를 출력합니다.\n",
    "    else:\n",
    "        print('-')  # 합이 음수이면 -를 출력합니다."
   ]
  },
  {
   "cell_type": "code",
   "execution_count": 11,
   "metadata": {},
   "outputs": [
    {
     "name": "stdout",
     "output_type": "stream",
     "text": [
      "Y M 60\n"
     ]
    }
   ],
   "source": [
    "# 1267: 핸드폰 요금\n",
    "N = int(input())\n",
    "t = list(map(int, input().split()))\n",
    "fee_y = sum([(time // 30 + 1) * 10 for time in t])\n",
    "fee_m = sum([(time // 60 + 1) * 15 for time in t])\n",
    "if fee_y == fee_m:\n",
    "    print(f\"Y M {fee_y}\")\n",
    "elif fee_y > fee_m:\n",
    "    print(f\"M {fee_m}\")\n",
    "else:\n",
    "    print(f\"Y {fee_y}\")"
   ]
  },
  {
   "cell_type": "code",
   "execution_count": 12,
   "metadata": {},
   "outputs": [
    {
     "name": "stdout",
     "output_type": "stream",
     "text": [
      "13\n",
      "15\n",
      "14\n"
     ]
    }
   ],
   "source": [
    "# 1284: 집 주소\n",
    "# 특이사항: 다국어 (영어)(한국어 번역)\n",
    "while True:\n",
    "    N = input()\n",
    "    if N == '0':\n",
    "        break\n",
    "    length = len(N) + 1\n",
    "    for char in N:\n",
    "        if char == '1':\n",
    "            length += 2\n",
    "        elif char == '0':\n",
    "            length += 4\n",
    "        else:\n",
    "            length += 3\n",
    "    print(length)"
   ]
  },
  {
   "cell_type": "code",
   "execution_count": 16,
   "metadata": {},
   "outputs": [
    {
     "name": "stdout",
     "output_type": "stream",
     "text": [
      "3\n"
     ]
    }
   ],
   "source": [
    "# 1547: 공\n",
    "M = int(input())\n",
    "ball_index = 1\n",
    "for _ in range(M):\n",
    "    X, Y = map(int, input().split())\n",
    "    if ball_index == X:\n",
    "        ball_index = Y\n",
    "    elif ball_index == Y:\n",
    "        ball_index = X\n",
    "    else:\n",
    "        pass\n",
    "print(ball_index)"
   ]
  },
  {
   "cell_type": "code",
   "execution_count": 17,
   "metadata": {},
   "outputs": [
    {
     "name": "stdout",
     "output_type": "stream",
     "text": [
      "8\n"
     ]
    }
   ],
   "source": [
    "# 1598: 꼬리를 무는 숫자 나열\n",
    "a, b = map(int, input().split())\n",
    "hor = abs((b - 1) // 4 - (a - 1) // 4)\n",
    "ver = abs((b - 1) % 4 - (a - 1) % 4)\n",
    "print(hor + ver)"
   ]
  },
  {
   "cell_type": "code",
   "execution_count": 1,
   "metadata": {},
   "outputs": [
    {
     "name": "stdout",
     "output_type": "stream",
     "text": [
      "3\n",
      "6\n",
      "12\n",
      "7\n",
      "5\n",
      "489\n"
     ]
    }
   ],
   "source": [
    "# 1703: 생장점\n",
    "# 특이사항: 다국어 (영어)(한국어 번역)\n",
    "while True:\n",
    "    figures = list(map(int, input().split()))\n",
    "    if figures == [0]:\n",
    "        break\n",
    "    \n",
    "    sf = [figures[i] for i in range(len(figures)) if i % 2 == 1]\n",
    "    pruned = [figures[i] for i in range(len(figures)) if (i % 2 == 0 and i != 0)]\n",
    "    num_branch = 1\n",
    "    for i in range(len(sf)):\n",
    "        num_branch *= sf[i]\n",
    "        num_branch -= pruned[i]\n",
    "    print(num_branch)"
   ]
  },
  {
   "cell_type": "code",
   "execution_count": 16,
   "metadata": {},
   "outputs": [
    {
     "name": "stdout",
     "output_type": "stream",
     "text": [
      "BAD 7\n"
     ]
    }
   ],
   "source": [
    "# 1837: 암호제작\n",
    "# 특이사항: 다국어 (영어)(한국어 번역)\n",
    "P, K = map(int, input().split())\n",
    "a = True\n",
    "for i in range(2,K):\n",
    "    if P % i == 0:\n",
    "        print('BAD', i)\n",
    "        a = False\n",
    "        break\n",
    "if a:\n",
    "    print('GOOD')"
   ]
  },
  {
   "cell_type": "code",
   "execution_count": null,
   "metadata": {},
   "outputs": [],
   "source": []
  }
 ],
 "metadata": {
  "kernelspec": {
   "display_name": "base",
   "language": "python",
   "name": "python3"
  },
  "language_info": {
   "codemirror_mode": {
    "name": "ipython",
    "version": 3
   },
   "file_extension": ".py",
   "mimetype": "text/x-python",
   "name": "python",
   "nbconvert_exporter": "python",
   "pygments_lexer": "ipython3",
   "version": "3.10.9"
  },
  "orig_nbformat": 4
 },
 "nbformat": 4,
 "nbformat_minor": 2
}
