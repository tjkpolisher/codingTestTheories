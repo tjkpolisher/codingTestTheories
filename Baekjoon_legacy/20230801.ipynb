{
 "cells": [
  {
   "cell_type": "code",
   "execution_count": 7,
   "metadata": {},
   "outputs": [
    {
     "name": "stdout",
     "output_type": "stream",
     "text": [
      "3\n",
      "4\n",
      "5\n",
      "4\n",
      "10\n",
      "133\n",
      "17\n"
     ]
    }
   ],
   "source": [
    "# 1673: 치킨 쿠폰\n",
    "# 특이사항: 다국어 (영어)(한국어 번역)\n",
    "while True:\n",
    "    try:\n",
    "        n, k = map(int, input().split())\n",
    "    except:\n",
    "        break\n",
    "    chicken = n\n",
    "    while n // k > 0: # 쿠폰이 충분할 때까지 반복문 실행\n",
    "        n_n = n // k # 새로운 치킨을 계산하고 추가하는 부분\n",
    "        chicken += n_n\n",
    "        n = n // k + n % k # n 값, 즉 쿠폰의 개수를 업데이트\n",
    "    print(chicken)"
   ]
  },
  {
   "cell_type": "code",
   "execution_count": 13,
   "metadata": {},
   "outputs": [
    {
     "name": "stdout",
     "output_type": "stream",
     "text": [
      "22\n"
     ]
    }
   ],
   "source": [
    "# 1681: 줄 세우기\n",
    "# 특이사항: 다국어 (영어)(한국어 번역)\n",
    "N, L = map(int, input().split())\n",
    "label = 1 # 현재 붙여주고자 하는 라벨 숫자\n",
    "counter = 0 # 라벨을 부여받은 학생의 수\n",
    "while counter < N: # 라벨을 받은 학생의 수가 전체 학생 수보다 적을 동안 반복문 실행\n",
    "    if str(L) in list(str(label)): # L이 라벨 숫자에 있을 경우\n",
    "        pass\n",
    "    else: # L이 라벨 숫자에 없을 경우\n",
    "        counter += 1 # 라벨을 \n",
    "    if counter == N:\n",
    "        break\n",
    "    else:\n",
    "        label += 1\n",
    "print(label)"
   ]
  },
  {
   "cell_type": "code",
   "execution_count": null,
   "metadata": {},
   "outputs": [],
   "source": [
    "# 1712: 손익분기점\n",
    "try:\n",
    "    A, B, C = map(int, input().split())\n",
    "except NameError as e:\n",
    "    print(\"Invalid input:\", e)\n",
    "    raise SystemExit\n",
    "\n",
    "try:\n",
    "    if C - B <= 0:\n",
    "        BEP = -1\n",
    "    else:\n",
    "        BEP = A // (C - B) + 1\n",
    "except ZeroDivisionError as z:\n",
    "    BEP = -1\n",
    "\n",
    "print(BEP)"
   ]
  },
  {
   "cell_type": "code",
   "execution_count": 29,
   "metadata": {},
   "outputs": [
    {
     "name": "stdout",
     "output_type": "stream",
     "text": [
      "btgz oet\n"
     ]
    }
   ],
   "source": [
    "# 1718: 암호\n",
    "alphabets = list(\"abcdefghijklmnopqrstuvwxyz\")\n",
    "normal_string = input()\n",
    "cipher_key = list(input())\n",
    "\n",
    "string_key_ciphered = []\n",
    "cipher_index = 0\n",
    "for i in range(len(normal_string)):\n",
    "    if normal_string[i] == ' ':\n",
    "        string_key_ciphered.append(' ')\n",
    "    else:\n",
    "        cipher = alphabets.index(cipher_key[cipher_index % len(cipher_key)])\n",
    "        key_ = alphabets.index(normal_string[i]) - (cipher + 1)\n",
    "        if key_ < 0:\n",
    "            key_ += len(alphabets)\n",
    "        string_key_ciphered.append(alphabets[key_])\n",
    "    cipher_index += 1\n",
    "print(''.join(string_key_ciphered))"
   ]
  },
  {
   "cell_type": "code",
   "execution_count": null,
   "metadata": {},
   "outputs": [],
   "source": []
  }
 ],
 "metadata": {
  "kernelspec": {
   "display_name": "base",
   "language": "python",
   "name": "python3"
  },
  "language_info": {
   "codemirror_mode": {
    "name": "ipython",
    "version": 3
   },
   "file_extension": ".py",
   "mimetype": "text/x-python",
   "name": "python",
   "nbconvert_exporter": "python",
   "pygments_lexer": "ipython3",
   "version": "3.9.13"
  },
  "orig_nbformat": 4
 },
 "nbformat": 4,
 "nbformat_minor": 2
}
