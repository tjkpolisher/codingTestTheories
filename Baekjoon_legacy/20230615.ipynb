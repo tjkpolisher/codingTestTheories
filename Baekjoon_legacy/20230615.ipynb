{
 "cells": [
  {
   "cell_type": "code",
   "execution_count": 11,
   "metadata": {},
   "outputs": [
    {
     "name": "stdout",
     "output_type": "stream",
     "text": [
      "18 53 20\n"
     ]
    }
   ],
   "source": [
    "# 2530: 인공지능 시계\n",
    "# 주의사항: 답의 시간 단위가 며칠 이상 소요되는 경우\n",
    "# 시계에서 요구하는 0<=hour<24를 만족하지 않고\n",
    "# 예를 들어 115시 등으로 표시되기도 합니다.\n",
    "# 이 점에 유의해서 시계에 표시되는 시간이 범위에 들어올 때까지\n",
    "# 조정해주는 작업이 필요합니다!\n",
    "A, B, C = map(int, input().split())\n",
    "D = int(input())\n",
    "D_hour = D // 3600\n",
    "D_min = (D % 3600) // 60\n",
    "D_sec = (D % 3600) % 60\n",
    "answer_a, answer_b, answer_c = A + D_hour, B + D_min, C + D_sec\n",
    "if answer_c >= 60:\n",
    "    answer_b += answer_c // 60\n",
    "    answer_c -= 60\n",
    "if answer_b >= 60:\n",
    "    answer_a += answer_b // 60\n",
    "    answer_b -= 60   \n",
    "while answer_a >= 24:\n",
    "    answer_a -= 24\n",
    "\n",
    "print(f\"{answer_a} {answer_b} {answer_c}\")"
   ]
  },
  {
   "cell_type": "code",
   "execution_count": 14,
   "metadata": {},
   "outputs": [
    {
     "name": "stdout",
     "output_type": "stream",
     "text": [
      "5\n",
      "4\n",
      "3\n",
      "2\n",
      "1\n"
     ]
    }
   ],
   "source": [
    "# 2742: N 찍기(원문: 기찍 N)\n",
    "N = int(input())\n",
    "while N > 0:\n",
    "    print(N)\n",
    "    N -= 1"
   ]
  },
  {
   "cell_type": "code",
   "execution_count": 15,
   "metadata": {},
   "outputs": [
    {
     "name": "stdout",
     "output_type": "stream",
     "text": [
      "1 2 3\n"
     ]
    }
   ],
   "source": [
    "# 2752: 세수정렬\n",
    "wash = list(map(int, input().split()))\n",
    "wash.sort()\n",
    "print(wash[0], wash[1], wash[2])"
   ]
  },
  {
   "cell_type": "code",
   "execution_count": 17,
   "metadata": {},
   "outputs": [
    {
     "name": "stdout",
     "output_type": "stream",
     "text": [
      "2\n"
     ]
    }
   ],
   "source": [
    "# 3046: R2\n",
    "# 특이사항: 다국어 (영어)(한국어 번역)\n",
    "R1, S = map(int, input().split())\n",
    "print(2 * S - R1)"
   ]
  },
  {
   "cell_type": "code",
   "execution_count": null,
   "metadata": {},
   "outputs": [],
   "source": [
    "# 3765: Celebrity jeopardy\n",
    "# 특이사항: 다국어 (영어)\n",
    "# 특이사항2: 그냥 들어오는 대로 출력하라는 문제.\n",
    "# 왜 브론즈 IV인지 모르겠음.\n",
    "while True:\n",
    "    try:\n",
    "        eq = input()\n",
    "        print(eq)\n",
    "    except:\n",
    "        break"
   ]
  },
  {
   "cell_type": "code",
   "execution_count": 15,
   "metadata": {},
   "outputs": [
    {
     "name": "stdout",
     "output_type": "stream",
     "text": [
      "2 1\n"
     ]
    }
   ],
   "source": [
    "# 4299: AFC 윔블던\n",
    "# 특이사항: 다국어 (영어)(한국어 번역)\n",
    "a, b = map(int, input().split())\n",
    "ans1 = (a + b) / 2\n",
    "ans2 = (a - b) / 2\n",
    "if (ans1 < 0 or ans2 < 0) or ((a+b) % 2!=0):\n",
    "    print(-1)\n",
    "else:\n",
    "    print(int(ans1), int(ans2))"
   ]
  },
  {
   "cell_type": "code",
   "execution_count": 16,
   "metadata": {},
   "outputs": [
    {
     "name": "stdout",
     "output_type": "stream",
     "text": [
      "1. Lionel Cosgrove\n",
      "2. Alice\n",
      "3. Columbus and Tallahassee\n",
      "4. Shaun and Ed\n",
      "5. Fido\n"
     ]
    }
   ],
   "source": [
    "# 4470: 줄번호\n",
    "# 특이사항: 다국어 (영어)(한국어 번역)\n",
    "N = int(input())\n",
    "for i in range(N):\n",
    "    text = input()\n",
    "    print(f\"{i + 1}. {text}\")"
   ]
  },
  {
   "cell_type": "code",
   "execution_count": 17,
   "metadata": {},
   "outputs": [
    {
     "name": "stdout",
     "output_type": "stream",
     "text": [
      "3\n",
      "43\n"
     ]
    }
   ],
   "source": [
    "# 5554: 심부름 가는 길\n",
    "# 특이사항: 다국어 (일본어)(한국어 번역)\n",
    "t1 = int(input())\n",
    "t2 = int(input())\n",
    "t3 = int(input())\n",
    "t4 = int(input())\n",
    "total = t1 + t2 + t3 + t4\n",
    "print(total // 60)\n",
    "print(total % 60)"
   ]
  },
  {
   "cell_type": "code",
   "execution_count": 25,
   "metadata": {},
   "outputs": [
    {
     "name": "stdout",
     "output_type": "stream",
     "text": [
      "2\n"
     ]
    }
   ],
   "source": [
    "# 17362: 수학은 체육과목 입니다 2\n",
    "n = int(input())\n",
    "if n % 8 == 1:\n",
    "    print(1)\n",
    "elif n % 8 == 5:\n",
    "    print(5)\n",
    "elif n % 8 == 2 or n % 8 == 0:\n",
    "    print(2)\n",
    "elif n % 8 == 3 or n % 8 == 7:\n",
    "    print(3)\n",
    "else:\n",
    "    print(4)"
   ]
  },
  {
   "cell_type": "code",
   "execution_count": 27,
   "metadata": {},
   "outputs": [
    {
     "name": "stdout",
     "output_type": "stream",
     "text": [
      "hasu\n"
     ]
    }
   ],
   "source": [
    "# 20499: 다리우스님 한타 안 함?\n",
    "K, D, A = map(int, input().split('/'))\n",
    "if K + A < D or D == 0:\n",
    "    print(\"hasu\")\n",
    "else:\n",
    "    print(\"gosu\")"
   ]
  },
  {
   "cell_type": "code",
   "execution_count": null,
   "metadata": {},
   "outputs": [],
   "source": []
  }
 ],
 "metadata": {
  "kernelspec": {
   "display_name": "base",
   "language": "python",
   "name": "python3"
  },
  "language_info": {
   "codemirror_mode": {
    "name": "ipython",
    "version": 3
   },
   "file_extension": ".py",
   "mimetype": "text/x-python",
   "name": "python",
   "nbconvert_exporter": "python",
   "pygments_lexer": "ipython3",
   "version": "3.10.9"
  },
  "orig_nbformat": 4
 },
 "nbformat": 4,
 "nbformat_minor": 2
}
