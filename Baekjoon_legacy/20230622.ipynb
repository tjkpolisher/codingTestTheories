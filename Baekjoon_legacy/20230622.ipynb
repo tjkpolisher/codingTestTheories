{
 "cells": [
  {
   "cell_type": "code",
   "execution_count": 2,
   "metadata": {},
   "outputs": [
    {
     "name": "stdout",
     "output_type": "stream",
     "text": [
      "*********\n",
      " *******\n",
      "  *****\n",
      "   ***\n",
      "    *\n",
      "   ***\n",
      "  *****\n",
      " *******\n",
      "*********\n"
     ]
    }
   ],
   "source": [
    "# 2446: 별 찍기 - 9\n",
    "N = int(input())\n",
    "for i in range(1, N + 1):\n",
    "    print(\" \" * (i - 1) + \"*\" * (2 * (N - i) + 1))\n",
    "for j in range(1, N):\n",
    "    print(\" \" * (N - j -1) + \"*\" * (2 * j + 1))"
   ]
  },
  {
   "cell_type": "code",
   "execution_count": 3,
   "metadata": {},
   "outputs": [
    {
     "name": "stdout",
     "output_type": "stream",
     "text": [
      "42\n"
     ]
    }
   ],
   "source": [
    "# 2455: 지능형 기차\n",
    "maximum, aboard = 0, 0\n",
    "for i in range(4):\n",
    "    a, d = map(int, input().split())\n",
    "    aboard -= a\n",
    "    aboard += d\n",
    "    if aboard >= maximum:\n",
    "        maximum = aboard\n",
    "    if maximum >= 10000:\n",
    "        break\n",
    "print(maximum)"
   ]
  },
  {
   "cell_type": "code",
   "execution_count": 4,
   "metadata": {},
   "outputs": [
    {
     "name": "stdout",
     "output_type": "stream",
     "text": [
      "42\n"
     ]
    }
   ],
   "source": [
    "# 2460: 지능형 기차 2\n",
    "maximum, aboard = 0, 0\n",
    "for i in range(10):\n",
    "    a, d = map(int, input().split())\n",
    "    aboard -= a\n",
    "    aboard += d\n",
    "    if aboard >= maximum:\n",
    "        maximum = aboard\n",
    "    if maximum >= 10000:\n",
    "        break\n",
    "print(maximum)"
   ]
  },
  {
   "cell_type": "code",
   "execution_count": 12,
   "metadata": {},
   "outputs": [
    {
     "name": "stdout",
     "output_type": "stream",
     "text": [
      "0 13\n"
     ]
    }
   ],
   "source": [
    "# 2525: 오븐 시계\n",
    "A, B = map(int, input().split())\n",
    "C = int(input())\n",
    "ans2 = B + C\n",
    "ans1 = A + ans2 // 60\n",
    "while ans1 >=24:\n",
    "    ans1 -= 24\n",
    "while ans2 >= 60:\n",
    "    ans2 -= 60\n",
    "print(ans1, ans2)"
   ]
  },
  {
   "cell_type": "code",
   "execution_count": 14,
   "metadata": {},
   "outputs": [
    {
     "name": "stdout",
     "output_type": "stream",
     "text": [
      "HE GOT AWAY!\n"
     ]
    }
   ],
   "source": [
    "# 2857: FBI\n",
    "# 특이사항: 다국어 (영어)(한국어 번역)\n",
    "counter = 0\n",
    "for i in range(5):\n",
    "    callsign = input()\n",
    "    if 'FBI' in callsign:\n",
    "        print(i + 1)\n",
    "        counter += 1\n",
    "if counter == 0:\n",
    "    print(\"HE GOT AWAY!\")"
   ]
  },
  {
   "cell_type": "code",
   "execution_count": 20,
   "metadata": {},
   "outputs": [
    {
     "name": "stdout",
     "output_type": "stream",
     "text": [
      "1\n"
     ]
    }
   ],
   "source": [
    "# 2863: 이게 분수?\n",
    "# 특이사항: 다국어 (영어)(한국어 번역)\n",
    "list1 = list(map(int, input().split()))\n",
    "list2 = list(map(int, input().split()))\n",
    "order = list(range(4))\n",
    "answer = []\n",
    "table = [list1, list2]\n",
    "answer.append(table[0][0] / table[1][0] + table[0][1] / table[1][1])\n",
    "for i in range(4):\n",
    "    table[0][0], table[0][1], table[1][0], table[1][1] =\\\n",
    "        table[1][0], table[0][0], table[1][1], table[0][1]\n",
    "    answer.append(table[0][0] / table[1][0] + table[0][1] / table[1][1])\n",
    "print(order[answer.index(max(answer))])"
   ]
  },
  {
   "cell_type": "code",
   "execution_count": 23,
   "metadata": {},
   "outputs": [
    {
     "name": "stdout",
     "output_type": "stream",
     "text": [
      "45\n",
      "105\n",
      "210\n",
      "2145\n"
     ]
    }
   ],
   "source": [
    "# 2721: 삼각수의 합\n",
    "# 특이사항: 다국어 (영어)(한국어 번역)\n",
    "# 문제에 수식이 주어지는데, 마크다운이 적용되지 않아서 알아보기 어렵습니다.\n",
    "# 수식을 풀어서 설명하면, 시그마 기호를 이용한 수열의 합 정도로 생각하면 되겠습니다.\n",
    "T = int(input())\n",
    "for i in range(T):\n",
    "    n = int(input())\n",
    "    print(sum([j * sum(list(range(1, j+2))) for j in range(1, n+1)]))"
   ]
  },
  {
   "cell_type": "code",
   "execution_count": 28,
   "metadata": {},
   "outputs": [
    {
     "name": "stdout",
     "output_type": "stream",
     "text": [
      "91\n"
     ]
    }
   ],
   "source": [
    "# 2914: 저작권\n",
    "# 특이사항: 다국어 (영어)(한국어 번역)\n",
    "A, I = map(int, input().split())\n",
    "print(A * (I - 1) + 1)"
   ]
  },
  {
   "cell_type": "code",
   "execution_count": null,
   "metadata": {},
   "outputs": [],
   "source": []
  }
 ],
 "metadata": {
  "kernelspec": {
   "display_name": "base",
   "language": "python",
   "name": "python3"
  },
  "language_info": {
   "codemirror_mode": {
    "name": "ipython",
    "version": 3
   },
   "file_extension": ".py",
   "mimetype": "text/x-python",
   "name": "python",
   "nbconvert_exporter": "python",
   "pygments_lexer": "ipython3",
   "version": "3.10.9"
  },
  "orig_nbformat": 4
 },
 "nbformat": 4,
 "nbformat_minor": 2
}
