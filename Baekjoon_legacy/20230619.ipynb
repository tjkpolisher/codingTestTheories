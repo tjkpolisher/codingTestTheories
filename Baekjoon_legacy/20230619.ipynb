{
 "cells": [
  {
   "cell_type": "code",
   "execution_count": 1,
   "metadata": {},
   "outputs": [
    {
     "name": "stdout",
     "output_type": "stream",
     "text": [
      "9 0 0\n",
      "8 59 59\n",
      "0 0 38\n"
     ]
    }
   ],
   "source": [
    "# 5575: 타임 카드\n",
    "# 특이사항: 다국어 (일본어)(한국어 번역)\n",
    "A = list(map(int, input().split()))\n",
    "B = list(map(int, input().split()))\n",
    "C = list(map(int, input().split()))\n",
    "joi = [A, B, C]\n",
    "for person in joi:\n",
    "    ans = [person[i+3] - person[i] for i in range(3)]\n",
    "    if ans[-1] < 0:\n",
    "        ans[-1] += 60\n",
    "        ans[1] -= 1\n",
    "    if ans[1] < 0:\n",
    "        ans[1] += 60\n",
    "        ans[0] -= 1\n",
    "    print(ans[0], ans[1], ans[2])"
   ]
  },
  {
   "cell_type": "code",
   "execution_count": 2,
   "metadata": {},
   "outputs": [
    {
     "name": "stdout",
     "output_type": "stream",
     "text": [
      "320\n"
     ]
    }
   ],
   "source": [
    "# 5596: 시험 점수\n",
    "# 특이사항: 다국어 (일본어)(한국어, 영어 번역)\n",
    "s1 = map(int, input().split())\n",
    "s2 = map(int, input().split())\n",
    "print(max(sum(s1), sum(s2)))"
   ]
  },
  {
   "cell_type": "code",
   "execution_count": 3,
   "metadata": {},
   "outputs": [
    {
     "name": "stdout",
     "output_type": "stream",
     "text": [
      "4\n",
      "5\n",
      "10\n",
      "2\n"
     ]
    }
   ],
   "source": [
    "# 5717: 상근이의 친구들\n",
    "# 특이사항: 다국어 (영어)(한국어 번역)\n",
    "while True:\n",
    "    M, F = map(int, input().split())\n",
    "    if (M, F) == (0, 0):\n",
    "        break\n",
    "    print(M + F)"
   ]
  },
  {
   "cell_type": "code",
   "execution_count": 4,
   "metadata": {},
   "outputs": [
    {
     "name": "stdout",
     "output_type": "stream",
     "text": [
      "18\n"
     ]
    }
   ],
   "source": [
    "# 6749: Next in line\n",
    "# 특이사항: 다국어 (영어)\n",
    "Y = int(input())\n",
    "M = int(input())\n",
    "print(M + (M - Y))"
   ]
  },
  {
   "cell_type": "code",
   "execution_count": 7,
   "metadata": {},
   "outputs": [
    {
     "name": "stdout",
     "output_type": "stream",
     "text": [
      "68\n"
     ]
    }
   ],
   "source": [
    "# 10039: 평균 점수\n",
    "# 특이사항: 다국어 (일본어)(한국어 번역)\n",
    "a = int(input())\n",
    "b = int(input())\n",
    "c = int(input())\n",
    "d = int(input())\n",
    "e = int(input())\n",
    "scores =[a, b, c, d, e]\n",
    "for i in range(5):\n",
    "    if scores[i] < 40:\n",
    "        scores[i] = 40\n",
    "print(int(sum(scores) / 5))"
   ]
  },
  {
   "cell_type": "code",
   "execution_count": 11,
   "metadata": {},
   "outputs": [
    {
     "name": "stdout",
     "output_type": "stream",
     "text": [
      "Error\n"
     ]
    }
   ],
   "source": [
    "# 10101: 삼각형 외우기\n",
    "# 특이사항: 다국어 (영어)(한국어 번역)\n",
    "a = int(input())\n",
    "b = int(input())\n",
    "c = int(input())\n",
    "if a+b+c != 180:\n",
    "    print(\"Error\")\n",
    "elif a == b and b == c:\n",
    "    print(\"Equilateral\")\n",
    "elif a == b or a == c or b == c:\n",
    "    print(\"Isosceles\")\n",
    "else:\n",
    "    print(\"Scalene\")"
   ]
  },
  {
   "cell_type": "code",
   "execution_count": 12,
   "metadata": {},
   "outputs": [
    {
     "name": "stdout",
     "output_type": "stream",
     "text": [
      "0\n"
     ]
    }
   ],
   "source": [
    "# 10156: 과자\n",
    "K, N, M = map(int, input().split())\n",
    "answer = 0 if K * N <= M else K * N - M\n",
    "print(answer)"
   ]
  },
  {
   "cell_type": "code",
   "execution_count": 13,
   "metadata": {},
   "outputs": [
    {
     "name": "stdout",
     "output_type": "stream",
     "text": [
      "What a good code!\n",
      "obfustication\n",
      "We intend to begin on the first of February unrestricted submarine warfare\n",
      "Concealed within his fortress, the lord of Mordor sees all\n"
     ]
    }
   ],
   "source": [
    "# 11365: !밀비 급일\n",
    "# 특이사항: 다국어 (영어)(한국어 번역)\n",
    "while True:\n",
    "    string = input()\n",
    "    if string == 'END':\n",
    "        break\n",
    "    print(string[::-1])"
   ]
  },
  {
   "cell_type": "code",
   "execution_count": null,
   "metadata": {},
   "outputs": [],
   "source": []
  }
 ],
 "metadata": {
  "kernelspec": {
   "display_name": "base",
   "language": "python",
   "name": "python3"
  },
  "language_info": {
   "codemirror_mode": {
    "name": "ipython",
    "version": 3
   },
   "file_extension": ".py",
   "mimetype": "text/x-python",
   "name": "python",
   "nbconvert_exporter": "python",
   "pygments_lexer": "ipython3",
   "version": "3.10.9"
  },
  "orig_nbformat": 4
 },
 "nbformat": 4,
 "nbformat_minor": 2
}
