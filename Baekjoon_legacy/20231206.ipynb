{
 "cells": [
  {
   "cell_type": "code",
   "execution_count": 3,
   "metadata": {},
   "outputs": [
    {
     "name": "stdout",
     "output_type": "stream",
     "text": [
      "158\n",
      "1984\n",
      "-47\n",
      "4\n"
     ]
    }
   ],
   "source": [
    "# 1864: 문어 숫자\n",
    "# 특이사항: 다국어\n",
    "# 출처: ICPC > Regionals > South Pacific > South Pacific Region > New Zealand Programming Contest > NZPC 2006 H번\n",
    "\n",
    "while True:\n",
    "    octopus = list(input())[::-1]\n",
    "    if octopus == [\"#\"]:\n",
    "        break\n",
    "    \n",
    "    octo_dict = {\"-\":0, \"\\\\\":1, \"(\":2,\n",
    "                 \"@\":3, \"?\":4, \">\":5,\n",
    "                 \"&\":6, \"%\":7, \"/\":-1}\n",
    "    answer = 0\n",
    "    for i in range(len(octopus)):\n",
    "        answer += octo_dict[octopus[i]] * 8 ** i\n",
    "    print(answer)"
   ]
  },
  {
   "cell_type": "code",
   "execution_count": 9,
   "metadata": {},
   "outputs": [
    {
     "name": "stdout",
     "output_type": "stream",
     "text": [
      "nice\n",
      "not nice\n"
     ]
    }
   ],
   "source": [
    "# 1871: 좋은 자동차 번호판\n",
    "# 특이사항: 다국어 (영어)(번역됨)\n",
    "\n",
    "N = int(input())\n",
    "for i in range(N):\n",
    "    num_plate = list(input().split(\"-\"))\n",
    "    front = num_plate[0][::-1]\n",
    "    rear = num_plate[1]\n",
    "    value0 = sum([(ord(front[i])-65)* 26 ** i for i in range(len(front))])\n",
    "    value1 = int(rear)\n",
    "    \n",
    "    value_net = abs(value0 - value1)\n",
    "    if value_net <= 100:\n",
    "        print(\"nice\")\n",
    "    else:\n",
    "        print(\"not nice\")"
   ]
  },
  {
   "cell_type": "code",
   "execution_count": 6,
   "metadata": {},
   "outputs": [
    {
     "name": "stdout",
     "output_type": "stream",
     "text": [
      "590\n"
     ]
    }
   ],
   "source": [
    "# 1964: 오각형, 오각형, 오각형...\n",
    "\n",
    "N = int(input())\n",
    "dots = 5 + sum([2 * (i + 1) + (i-1) for i in range(2, N + 1)]) if N >=2 else 5\n",
    "# 위 코드는 조금 더 축약해서 3 * i + 1로 풀어도 무방합니다.\n",
    "print(dots % 45678)"
   ]
  },
  {
   "cell_type": "code",
   "execution_count": 12,
   "metadata": {},
   "outputs": [
    {
     "name": "stdout",
     "output_type": "stream",
     "text": [
      "29\n",
      "2727\n",
      "70\n"
     ]
    }
   ],
   "source": [
    "# 1942: 디지털시계\n",
    "# 특이사항: 다국어 (영어)(번역됨)\n",
    "import datetime\n",
    "from datetime import timedelta\n",
    "\n",
    "for i in range(3):\n",
    "    clock = list(input().split())\n",
    "    st1, st2, st3 = map(int, clock[0].split(\":\"))\n",
    "    ed1, ed2, ed3 = map(int, clock[1].split(\":\"))\n",
    "    \n",
    "    stime = datetime.datetime(2023, 12, 6, st1, st2, st3)\n",
    "    tmp_time = stime.strftime(\"%H%M%S\")\n",
    "    \n",
    "    sec = 1\n",
    "    cnt = 0\n",
    "    if int(tmp_time) % 3 == 0:\n",
    "        cnt += 1\n",
    "    \n",
    "    etime = datetime.datetime(2023, 12, 6, ed1, ed2, ed3)\n",
    "    etime = etime.strftime(\"%H%M%S\")\n",
    "    \n",
    "    while True:\n",
    "        if tmp_time == etime:\n",
    "            break\n",
    "        \n",
    "        stime = stime + timedelta(seconds=sec)\n",
    "        tmp_time = stime.strftime(\"%H%M%S\")\n",
    "        if int(tmp_time) % 3 == 0:\n",
    "            cnt += 1\n",
    "    \n",
    "    print(cnt)"
   ]
  },
  {
   "cell_type": "code",
   "execution_count": null,
   "metadata": {},
   "outputs": [],
   "source": []
  }
 ],
 "metadata": {
  "kernelspec": {
   "display_name": "base",
   "language": "python",
   "name": "python3"
  },
  "language_info": {
   "codemirror_mode": {
    "name": "ipython",
    "version": 3
   },
   "file_extension": ".py",
   "mimetype": "text/x-python",
   "name": "python",
   "nbconvert_exporter": "python",
   "pygments_lexer": "ipython3",
   "version": "3.9.13"
  }
 },
 "nbformat": 4,
 "nbformat_minor": 2
}
