{
 "cells": [
  {
   "cell_type": "code",
   "execution_count": 31,
   "metadata": {},
   "outputs": [
    {
     "name": "stdout",
     "output_type": "stream",
     "text": [
      "0\n"
     ]
    }
   ],
   "source": [
    "# 1009: 분산처리\n",
    "T = int(input())\n",
    "for i in range(T):\n",
    "    a, b = map(int, input().split())\n",
    "    ones = []\n",
    "    ones.append(a % 10)\n",
    "    elem = ones[-1] * a % 10\n",
    "    while elem != ones[0]:\n",
    "        ones.append(elem)\n",
    "        elem = ones[-1] * a % 10\n",
    "    \n",
    "    one = ones[b % len(ones) - 1]\n",
    "    if one == 0:\n",
    "        one = 10\n",
    "    print(one)"
   ]
  },
  {
   "cell_type": "code",
   "execution_count": 37,
   "metadata": {},
   "outputs": [
    {
     "name": "stdout",
     "output_type": "stream",
     "text": [
      "15\n"
     ]
    }
   ],
   "source": [
    "# 1075: 나누기\n",
    "N_string = input()\n",
    "N = int(N_string)\n",
    "F = int(input())\n",
    "for i in range(0, 100):\n",
    "    string = \"0\"+str(i) if i<10 else str(i)\n",
    "    a = ''.join([N_string[:-2], string])\n",
    "    if int(a) % F == 0:\n",
    "        break\n",
    "    else:\n",
    "        pass\n",
    "print(string)"
   ]
  },
  {
   "cell_type": "code",
   "execution_count": 39,
   "metadata": {},
   "outputs": [
    {
     "name": "stdout",
     "output_type": "stream",
     "text": [
      "32000000\n"
     ]
    }
   ],
   "source": [
    "# 1076: 저항\n",
    "c1 = input()\n",
    "c2 = input()\n",
    "c3 = input()\n",
    "dict_keys = ['black', 'brown', 'red', 'orange',\n",
    "             'yellow', 'green', 'blue', 'violet',\n",
    "             'grey', 'white']\n",
    "dict = {dict_keys[i]:[i, 10 ** i] for i in range(10)}\n",
    "n1 = dict[c1][0]\n",
    "n2 = dict[c2][0]\n",
    "n3 = dict[c3][1]\n",
    "print((n1 * 10 + n2) * n3)"
   ]
  },
  {
   "cell_type": "code",
   "execution_count": 40,
   "metadata": {},
   "outputs": [
    {
     "name": "stdout",
     "output_type": "stream",
     "text": [
      "1\n"
     ]
    }
   ],
   "source": [
    "# 1100: 하얀 칸\n",
    "input_plate = []\n",
    "for _ in range(8):\n",
    "    input_plate.append(input())\n",
    "counter = 0\n",
    "for i in range(8): # 행의 개수\n",
    "    for j in range(8): # 열의 개수\n",
    "        if (i + j) % 2 == 0 and input_plate[i][j]==\"F\":\n",
    "            counter += 1\n",
    "print(counter)"
   ]
  },
  {
   "cell_type": "code",
   "execution_count": 3,
   "metadata": {},
   "outputs": [
    {
     "name": "stdout",
     "output_type": "stream",
     "text": [
      "['b', 'k']\n",
      "bk\n"
     ]
    }
   ],
   "source": [
    "# 1159: 농구 경기\n",
    "# 특이사항: 다국어 (영어)(한국어 번역)\n",
    "N = int(input())\n",
    "last_name_first_letters = []\n",
    "ans = []\n",
    "for i in range(N):\n",
    "    last_name = input()\n",
    "    last_name_first_letters.append(last_name[0])\n",
    "fl_set = list(set(last_name_first_letters))\n",
    "for fl in fl_set:\n",
    "    if last_name_first_letters.count(fl) >= 5:\n",
    "        ans.append(fl)\n",
    "if len(ans) == 0:\n",
    "    print(\"PREDAJA\")\n",
    "else:\n",
    "    ans = sorted(ans)\n",
    "    print(''.join(ans))"
   ]
  },
  {
   "cell_type": "code",
   "execution_count": 11,
   "metadata": {},
   "outputs": [
    {
     "name": "stdout",
     "output_type": "stream",
     "text": [
      "109\n"
     ]
    }
   ],
   "source": [
    "# 1173: 운동\n",
    "# N: 운동 시간, m: 초기 (최소) 맥박, M: 최대 맥박, T: 분당 증가하는 맥박, R: 휴식 시 분당 감소하는 맥박\n",
    "N, m, M, T, R = map(int, input().split())\n",
    "time = total = 0\n",
    "heart = m\n",
    "if m + T > M:\n",
    "    print(-1)\n",
    "else:\n",
    "    while time < N:\n",
    "        if heart + T <= M:\n",
    "            heart += T\n",
    "            time += 1\n",
    "            total += 1\n",
    "        else:\n",
    "            heart -= R\n",
    "            if heart < m:\n",
    "                heart = m\n",
    "            total += 1\n",
    "    print(total)"
   ]
  },
  {
   "cell_type": "code",
   "execution_count": 23,
   "metadata": {},
   "outputs": [
    {
     "name": "stdout",
     "output_type": "stream",
     "text": [
      "11001100\n"
     ]
    }
   ],
   "source": [
    "# 1212: 8진수 2진수\n",
    "\"\"\"eight_digit = input()\n",
    "ten_digit = sum([int(eight_digit[-i-1]) * 8 ** i  for i in range(len(eight_digit))])\n",
    "two_digit = \"\"\n",
    "while True:\n",
    "    two_digit = str(ten_digit % 2) + two_digit\n",
    "    ten_digit //= 2\n",
    "    if ten_digit == 1:\n",
    "        two_digit = str(ten_digit) + two_digit\n",
    "        break\n",
    "print(two_digit)\"\"\"\n",
    "print(bin(int(input(), 8))[2:])"
   ]
  },
  {
   "cell_type": "code",
   "execution_count": 25,
   "metadata": {},
   "outputs": [],
   "source": [
    "# 1225: 이상한 곱셈\n",
    "# 특이사항: 다국어 (영어)(한국어 번역)\n",
    "import sys\n",
    "A, B = map(list, sys.stdin.readline().split())\n",
    "A = list(map(int, A))\n",
    "B = list(map(int, B))\n",
    "print(sum(A) * sum(B))"
   ]
  },
  {
   "cell_type": "code",
   "execution_count": null,
   "metadata": {},
   "outputs": [],
   "source": []
  }
 ],
 "metadata": {
  "kernelspec": {
   "display_name": "base",
   "language": "python",
   "name": "python3"
  },
  "language_info": {
   "codemirror_mode": {
    "name": "ipython",
    "version": 3
   },
   "file_extension": ".py",
   "mimetype": "text/x-python",
   "name": "python",
   "nbconvert_exporter": "python",
   "pygments_lexer": "ipython3",
   "version": "3.10.9"
  },
  "orig_nbformat": 4
 },
 "nbformat": 4,
 "nbformat_minor": 2
}
