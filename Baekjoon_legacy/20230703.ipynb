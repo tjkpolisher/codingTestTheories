{
 "cells": [
  {
   "cell_type": "code",
   "execution_count": 2,
   "metadata": {},
   "outputs": [
    {
     "name": "stdout",
     "output_type": "stream",
     "text": [
      "30 10\n"
     ]
    }
   ],
   "source": [
    "# 3009: 네 번째 점\n",
    "# 특이사항: 다국어 (영어)(한국어 번역)\n",
    "p1 = list(map(int, input().split()))\n",
    "p2 = list(map(int, input().split()))\n",
    "p3 = list(map(int, input().split()))\n",
    "x_coords = [p1[0], p2[0], p3[0]]\n",
    "y_coords = [p1[1], p2[1], p3[1]]\n",
    "for i in range(3):\n",
    "    if x_coords.count(x_coords[i])==1:\n",
    "        ans_x = x_coords[i]\n",
    "        \n",
    "    if y_coords.count(y_coords[i])==1:\n",
    "        ans_y = y_coords[i]\n",
    "print(ans_x, ans_y)"
   ]
  },
  {
   "cell_type": "code",
   "execution_count": 13,
   "metadata": {},
   "outputs": [
    {
     "name": "stdout",
     "output_type": "stream",
     "text": [
      "00:00:00\n"
     ]
    }
   ],
   "source": [
    "# 3029: 경고\n",
    "# 특이사항: 다국어 (영어)(한국어 번역)\n",
    "h1, m1, s1 = map(int, input().split(\":\"))\n",
    "h2, m2, s2 = map(int, input().split(\":\"))\n",
    "ha, ma, sa = h2 - h1, m2 - m1, s2 - s1\n",
    "if sa < 0:\n",
    "    sa += 60\n",
    "    ma -= 1\n",
    "if ma < 0:\n",
    "    ma += 60\n",
    "    ha -= 1\n",
    "if ha < 0:\n",
    "    ha += 24\n",
    "elif ha >= 24:\n",
    "    ha -= 24\n",
    "\n",
    "# 제약조건: 기다리는 시간은 최소 1초, 최대 24시간\n",
    "# 따라서 모든 항이 0일 경우 24시간을 기다리는 것으로 바꿔야 합니다.\n",
    "if ha==0 and ma==0 and sa==0:\n",
    "    ha = 24\n",
    "print(f\"{ha:02d}:{ma:02d}:{sa:02d}\")"
   ]
  },
  {
   "cell_type": "code",
   "execution_count": 15,
   "metadata": {},
   "outputs": [
    {
     "name": "stdout",
     "output_type": "stream",
     "text": [
      "DA\n",
      "DA\n",
      "DA\n",
      "NE\n",
      "NE\n"
     ]
    }
   ],
   "source": [
    "# 3034: 앵그리 창영\n",
    "# 특이사항: 다국어 (영어)(한국어 번역)\n",
    "N, W, H = map(int, input().split())\n",
    "for i in range(N):\n",
    "    length_match = int(input())\n",
    "    if length_match <= (W**2 + H**2) ** 0.5:\n",
    "        print(\"DA\")\n",
    "    else:\n",
    "        print(\"NE\")"
   ]
  },
  {
   "cell_type": "code",
   "execution_count": 20,
   "metadata": {},
   "outputs": [
    {
     "name": "stdout",
     "output_type": "stream",
     "text": [
      "6 2 4\n"
     ]
    }
   ],
   "source": [
    "# 3047: ABC\n",
    "# 특이사항: 다국어 (영어)(한국어 번역)\n",
    "ABC = sorted(list(map(int, input().split())))\n",
    "A, B, C = ABC[0], ABC[1], ABC[2]\n",
    "ans = []\n",
    "Alphabets = list(input())\n",
    "for alphabet in Alphabets:\n",
    "    if alphabet==\"A\":\n",
    "        ans.append(A)\n",
    "    elif alphabet==\"B\":\n",
    "        ans.append(B)\n",
    "    elif alphabet==\"C\":\n",
    "        ans.append(C)\n",
    "        \n",
    "print(ans[0], ans[1], ans[2])"
   ]
  },
  {
   "cell_type": "code",
   "execution_count": 25,
   "metadata": {},
   "outputs": [
    {
     "name": "stdout",
     "output_type": "stream",
     "text": [
      "5541.769441\n",
      "3528.000000\n"
     ]
    }
   ],
   "source": [
    "# 3053: 택시 기하학\n",
    "# 특이사항: 스페셜 저지, 다국어 (영어)(한국어 번역)\n",
    "import math\n",
    "R = int(input())\n",
    "print(f\"{math.pi * R ** 2:.6f}\")\n",
    "print(f\"{2 * R ** 2:.6f}\")"
   ]
  },
  {
   "cell_type": "code",
   "execution_count": 28,
   "metadata": {},
   "outputs": [
    {
     "name": "stdout",
     "output_type": "stream",
     "text": [
      "12 2\n",
      "260 42\n"
     ]
    }
   ],
   "source": [
    "# 3058: 짝수를 찾아라\n",
    "T = int(input())\n",
    "for i in range(T):\n",
    "    nn = list(map(int, input().split()))\n",
    "    even = [nn[j] for j in range(len(nn)) if nn[j] % 2 == 0]\n",
    "    print(sum(even), min(even))"
   ]
  },
  {
   "cell_type": "code",
   "execution_count": 30,
   "metadata": {},
   "outputs": [
    {
     "name": "stdout",
     "output_type": "stream",
     "text": [
      "267\n",
      "1950\n"
     ]
    }
   ],
   "source": [
    "# 3059: 등장하지 않는 문자의 합\n",
    "T = int(input())\n",
    "alphabet = list(\"ABCDEFGHIJKLMNOPQRSTUVWXYZ\")\n",
    "for i in range(T):\n",
    "    string = list(input())\n",
    "    output = list(set(alphabet) - set(string))\n",
    "    summation = sum([ord(a) for a in output])\n",
    "    print(summation)"
   ]
  },
  {
   "cell_type": "code",
   "execution_count": 44,
   "metadata": {},
   "outputs": [
    {
     "name": "stdout",
     "output_type": "stream",
     "text": [
      "3 5\n"
     ]
    }
   ],
   "source": [
    "# 3276: ICONS\n",
    "# 특이사항: 스페셜 저지, 다국어 (영어)\n",
    "import math\n",
    "N = int(input())\n",
    "comb = []\n",
    "for i in range(1, math.ceil(N / 2) + 1):\n",
    "    comb.append((i, math.ceil(N / i)))\n",
    "summation = [comb_[0] + comb_[1] for comb_ in comb]\n",
    "answer = comb[summation.index(min(summation))]\n",
    "print(answer[0], answer[1])"
   ]
  },
  {
   "cell_type": "code",
   "execution_count": null,
   "metadata": {},
   "outputs": [],
   "source": []
  }
 ],
 "metadata": {
  "kernelspec": {
   "display_name": "base",
   "language": "python",
   "name": "python3"
  },
  "language_info": {
   "codemirror_mode": {
    "name": "ipython",
    "version": 3
   },
   "file_extension": ".py",
   "mimetype": "text/x-python",
   "name": "python",
   "nbconvert_exporter": "python",
   "pygments_lexer": "ipython3",
   "version": "3.10.9"
  },
  "orig_nbformat": 4
 },
 "nbformat": 4,
 "nbformat_minor": 2
}
