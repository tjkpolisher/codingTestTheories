{
 "cells": [
  {
   "cell_type": "code",
   "execution_count": 3,
   "metadata": {},
   "outputs": [
    {
     "name": "stdout",
     "output_type": "stream",
     "text": [
      "go\n"
     ]
    }
   ],
   "source": [
    "# 4999: 아!\n",
    "jaewhan = input()\n",
    "doctor = input()\n",
    "go = 'go' if len(jaewhan) >= len(doctor) else 'no'\n",
    "print(go)"
   ]
  },
  {
   "cell_type": "code",
   "execution_count": 4,
   "metadata": {},
   "outputs": [
    {
     "name": "stdout",
     "output_type": "stream",
     "text": [
      ".  .   .\n",
      "|  | _ | _. _ ._ _  _\n",
      "|/\\|(/.|(_.(_)[ | )(/.\n"
     ]
    }
   ],
   "source": [
    "# 5337: 웰컴\n",
    "print(\".  .   .\")\n",
    "print(\"|  | _ | _. _ ._ _  _\")\n",
    "print(\"|/\\\\|(/.|(_.(_)[ | )(/.\")"
   ]
  },
  {
   "cell_type": "code",
   "execution_count": 5,
   "metadata": {},
   "outputs": [
    {
     "name": "stdout",
     "output_type": "stream",
     "text": [
      "       _.-;;-._\n",
      "'-..-'|   ||   |\n",
      "'-..-'|_.-;;-._|\n",
      "'-..-'|   ||   |\n",
      "'-..-'|_.-''-._|\n"
     ]
    }
   ],
   "source": [
    "# 5338: 마이크로소프트 로고\n",
    "print(\"       _.-;;-._\")\n",
    "print(\"'-..-'|   ||   |\")\n",
    "print(\"'-..-'|_.-;;-._|\")\n",
    "print(\"'-..-'|   ||   |\")\n",
    "print(\"'-..-'|_.-''-._|\")"
   ]
  },
  {
   "cell_type": "code",
   "execution_count": 6,
   "metadata": {},
   "outputs": [
    {
     "name": "stdout",
     "output_type": "stream",
     "text": [
      "     /~\\\n",
      "    ( oo|\n",
      "    _\\=/_\n",
      "   /  _  \\\n",
      "  //|/.\\|\\\\\n",
      " ||  \\ /  ||\n",
      "============\n",
      "|          |\n",
      "|          |\n",
      "|          |\n"
     ]
    }
   ],
   "source": [
    "# 5339: 콜센터\n",
    "print(\"     /~\\\\\")\n",
    "print(\"    ( oo|\")\n",
    "print(\"    _\\\\=/_\")\n",
    "print(\"   /  _  \\\\\")\n",
    "print(\"  //|/.\\\\|\\\\\\\\\")\n",
    "print(\" ||  \\\\ /  ||\")\n",
    "print(\"============\")\n",
    "print(\"|          |\")\n",
    "print(\"|          |\")\n",
    "print(\"|          |\")"
   ]
  },
  {
   "cell_type": "code",
   "execution_count": 7,
   "metadata": {},
   "outputs": [
    {
     "name": "stdout",
     "output_type": "stream",
     "text": [
      "10\n",
      "21\n"
     ]
    }
   ],
   "source": [
    "# 5341: Pyramids\n",
    "# 특이사항: 다국어 (영어)\n",
    "while True:\n",
    "    integer = int(input())\n",
    "    if integer == 0:\n",
    "        break\n",
    "    print(sum(list(range(1, integer + 1))))"
   ]
  },
  {
   "cell_type": "code",
   "execution_count": 8,
   "metadata": {},
   "outputs": [
    {
     "name": "stdout",
     "output_type": "stream",
     "text": [
      "15\n"
     ]
    }
   ],
   "source": [
    "# 5522: 카드 게임\n",
    "result = 0\n",
    "while True:\n",
    "    try:\n",
    "        Ai = int(input())\n",
    "        result += Ai\n",
    "    except:\n",
    "        break\n",
    "print(result)"
   ]
  },
  {
   "cell_type": "code",
   "execution_count": 9,
   "metadata": {},
   "outputs": [
    {
     "name": "stdout",
     "output_type": "stream",
     "text": [
      "24.75\n"
     ]
    }
   ],
   "source": [
    "# 27389: Metronome\n",
    "# 특이사항: 스페셜 저지, 다국어 (영어)\n",
    "i = int(input())\n",
    "print(i / 4)"
   ]
  },
  {
   "cell_type": "code",
   "execution_count": 10,
   "metadata": {},
   "outputs": [
    {
     "name": "stdout",
     "output_type": "stream",
     "text": [
      "100\n"
     ]
    }
   ],
   "source": [
    "# 27323: 직사각형\n",
    "A = int(input()) # 세로 길이\n",
    "B = int(input()) # 가로 길이\n",
    "print(A * B)"
   ]
  },
  {
   "cell_type": "code",
   "execution_count": 13,
   "metadata": {},
   "outputs": [
    {
     "name": "stdout",
     "output_type": "stream",
     "text": [
      "long long long long long int\n"
     ]
    }
   ],
   "source": [
    "# 25314: 코딩은 체육과목입니다\n",
    "N = int(input())\n",
    "string = N // 4 * \"long \"\n",
    "print(f\"{string}int\")"
   ]
  },
  {
   "cell_type": "code",
   "execution_count": 14,
   "metadata": {},
   "outputs": [
    {
     "name": "stdout",
     "output_type": "stream",
     "text": [
      "-1 1 900 -100 -3 "
     ]
    }
   ],
   "source": [
    "# 2845: 파티가 끝나고 난 뒤\n",
    "L, P = map(int, input().split())\n",
    "s = list(map(int, input().split()))\n",
    "answer = L * P\n",
    "for i in range(len(s)):\n",
    "    print(s[i]-answer, end=' ')"
   ]
  },
  {
   "cell_type": "code",
   "execution_count": null,
   "metadata": {},
   "outputs": [],
   "source": []
  }
 ],
 "metadata": {
  "kernelspec": {
   "display_name": "base",
   "language": "python",
   "name": "python3"
  },
  "language_info": {
   "codemirror_mode": {
    "name": "ipython",
    "version": 3
   },
   "file_extension": ".py",
   "mimetype": "text/x-python",
   "name": "python",
   "nbconvert_exporter": "python",
   "pygments_lexer": "ipython3",
   "version": "3.10.9"
  },
  "orig_nbformat": 4
 },
 "nbformat": 4,
 "nbformat_minor": 2
}
