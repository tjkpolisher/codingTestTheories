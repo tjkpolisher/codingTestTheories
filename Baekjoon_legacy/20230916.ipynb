{
 "cells": [
  {
   "cell_type": "markdown",
   "metadata": {},
   "source": [
    "브론즈 1"
   ]
  },
  {
   "cell_type": "code",
   "execution_count": 2,
   "metadata": {},
   "outputs": [
    {
     "name": "stdout",
     "output_type": "stream",
     "text": [
      "config????\n"
     ]
    }
   ],
   "source": [
    "# 1032: 명령 프롬프트\n",
    "N = int(input())\n",
    "input_list = []\n",
    "for i in range(N):\n",
    "    input_list.append(input())\n",
    "common = list(input_list[0])\n",
    "for idx, file_name in enumerate(input_list):\n",
    "    if idx > 0:\n",
    "        for j, letter in enumerate(file_name):\n",
    "            if common[j] == \"?\":\n",
    "                pass\n",
    "            elif letter != common[j]:\n",
    "                common[j] = \"?\"\n",
    "                \n",
    "print(''.join(common))"
   ]
  },
  {
   "cell_type": "code",
   "execution_count": 6,
   "metadata": {},
   "outputs": [
    {
     "name": "stdout",
     "output_type": "stream",
     "text": [
      "185192\n"
     ]
    }
   ],
   "source": [
    "# 1037: 약수\n",
    "num = int(input())\n",
    "divisors = list(map(int, input().split()))\n",
    "N = divisors[0]\n",
    "if num == 1:\n",
    "    answer = N ** 2\n",
    "else:\n",
    "    answer = min(divisors) * max(divisors)\n",
    "print(answer)"
   ]
  },
  {
   "cell_type": "code",
   "execution_count": null,
   "metadata": {},
   "outputs": [],
   "source": []
  }
 ],
 "metadata": {
  "kernelspec": {
   "display_name": "base",
   "language": "python",
   "name": "python3"
  },
  "language_info": {
   "codemirror_mode": {
    "name": "ipython",
    "version": 3
   },
   "file_extension": ".py",
   "mimetype": "text/x-python",
   "name": "python",
   "nbconvert_exporter": "python",
   "pygments_lexer": "ipython3",
   "version": "3.9.13"
  },
  "orig_nbformat": 4
 },
 "nbformat": 4,
 "nbformat_minor": 2
}
