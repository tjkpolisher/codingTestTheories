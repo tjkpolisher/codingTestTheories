{
 "cells": [
  {
   "cell_type": "code",
   "execution_count": 8,
   "metadata": {},
   "outputs": [
    {
     "name": "stdout",
     "output_type": "stream",
     "text": [
      "12\n"
     ]
    }
   ],
   "source": [
    "# 1110: 더하기 사이클\n",
    "N = int(input())\n",
    "if N < 10:\n",
    "    n1, n2 = 0, N\n",
    "else:\n",
    "    n1, n2 = N // 10, N % 10\n",
    "\n",
    "counter = 0\n",
    "while True:\n",
    "    new_num = n2 * 10 + (n1 + n2) % 10\n",
    "    counter += 1\n",
    "    \n",
    "    if new_num == N:\n",
    "        break\n",
    "    if new_num < 10:\n",
    "        n1, n2 = 0, new_num\n",
    "    else:\n",
    "        n1, n2 = new_num // 10, new_num % 10\n",
    "    \n",
    "print(counter)"
   ]
  },
  {
   "cell_type": "code",
   "execution_count": 11,
   "metadata": {},
   "outputs": [
    {
     "name": "stdout",
     "output_type": "stream",
     "text": [
      "210\n"
     ]
    }
   ],
   "source": [
    "# 1145: 적어도 대부분의 배수\n",
    "import math\n",
    "from itertools import combinations\n",
    "\n",
    "def lcm(a, b):\n",
    "    return int(a * b / math.gcd(a, b))\n",
    "\n",
    "nums = list(map(int, input().split()))\n",
    "nums.sort()\n",
    "\n",
    "answers = []\n",
    "combs = combinations(nums, 3)\n",
    "for comb in combs:\n",
    "    answers.append(lcm(lcm(comb[0], comb[1]), comb[2]))\n",
    "print(min(answers))"
   ]
  },
  {
   "cell_type": "code",
   "execution_count": null,
   "metadata": {},
   "outputs": [],
   "source": [
    "# 1236: 성 지키기\n"
   ]
  }
 ],
 "metadata": {
  "kernelspec": {
   "display_name": "base",
   "language": "python",
   "name": "python3"
  },
  "language_info": {
   "codemirror_mode": {
    "name": "ipython",
    "version": 3
   },
   "file_extension": ".py",
   "mimetype": "text/x-python",
   "name": "python",
   "nbconvert_exporter": "python",
   "pygments_lexer": "ipython3",
   "version": "3.9.13"
  }
 },
 "nbformat": 4,
 "nbformat_minor": 2
}
