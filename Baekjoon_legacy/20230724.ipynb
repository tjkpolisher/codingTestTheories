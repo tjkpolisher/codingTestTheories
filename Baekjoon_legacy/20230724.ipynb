{
 "cells": [
  {
   "cell_type": "code",
   "execution_count": 11,
   "metadata": {},
   "outputs": [
    {
     "name": "stdout",
     "output_type": "stream",
     "text": [
      "4\n"
     ]
    }
   ],
   "source": [
    "# 1440: 타임머신\n",
    "from itertools import permutations\n",
    "numbers = list(map(int, input().split(':')))\n",
    "comb = []\n",
    "for i in permutations(numbers):\n",
    "    if i[0] > 12 or i[0] < 1:\n",
    "        continue\n",
    "    elif i[1] > 59 or i[1] < 0:\n",
    "        continue\n",
    "    elif i[2] > 59 or i[2] < 0:\n",
    "        continue\n",
    "    else:\n",
    "        comb.append(i)\n",
    "print(len(comb))"
   ]
  },
  {
   "cell_type": "code",
   "execution_count": 13,
   "metadata": {},
   "outputs": [
    {
     "name": "stdout",
     "output_type": "stream",
     "text": [
      "0\n"
     ]
    }
   ],
   "source": [
    "# 1453: 피시방 알바\n",
    "N = int(input())\n",
    "seats = [0] * 100\n",
    "nums = list(map(int, input().split()))\n",
    "counter = 0\n",
    "for num in nums:\n",
    "    if seats[num-1] == 0:\n",
    "        seats[num-1] = 1\n",
    "    elif seats[num-1] != 0:\n",
    "        counter += 1\n",
    "print(counter)"
   ]
  }
 ],
 "metadata": {
  "kernelspec": {
   "display_name": "base",
   "language": "python",
   "name": "python3"
  },
  "language_info": {
   "codemirror_mode": {
    "name": "ipython",
    "version": 3
   },
   "file_extension": ".py",
   "mimetype": "text/x-python",
   "name": "python",
   "nbconvert_exporter": "python",
   "pygments_lexer": "ipython3",
   "version": "3.10.9"
  },
  "orig_nbformat": 4
 },
 "nbformat": 4,
 "nbformat_minor": 2
}
