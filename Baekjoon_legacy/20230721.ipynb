{
 "cells": [
  {
   "cell_type": "code",
   "execution_count": 1,
   "metadata": {},
   "outputs": [],
   "source": [
    "# 1371: 가장 많은 글자\n",
    "# 20230721_1371번.py 파일에서 실행 가능합니다.\n",
    "import sys\n",
    "\n",
    "sentences = list(sys.stdin.readlines())\n",
    "sentence = []\n",
    "for i in range(len(sentences)):\n",
    "    sentence.extend(list(sentences[i].rstrip('\\n').replace(\" \" , \"\")))\n",
    "characters = list(set(sentence))\n",
    "counts = []\n",
    "for alphabet in characters:\n",
    "    counts.append(sentence.count(alphabet))\n",
    "max_count = max(counts)\n",
    "maximum = sorted([characters[i] for i in range(len(characters)) if counts[i] == max_count])\n",
    "print(''.join(maximum))"
   ]
  },
  {
   "cell_type": "code",
   "execution_count": 4,
   "metadata": {},
   "outputs": [
    {
     "name": "stdout",
     "output_type": "stream",
     "text": [
      "2\n",
      "3\n",
      "3\n",
      "1\n",
      "1\n"
     ]
    }
   ],
   "source": [
    "# 1392: 노래 악보\n",
    "# 특이사항: 다국어 (영어)(한국어 번역)\n",
    "N, Q = map(int, input().split())\n",
    "running_time = []\n",
    "for i in range(N):\n",
    "    running_time.append(int(input()))\n",
    "rt_cumsum = [sum(running_time[:i]) for i in range(1, N+1)]\n",
    "rt_cumsum.insert(0, 0)\n",
    "score_number = len(rt_cumsum)\n",
    "for i in range(Q):\n",
    "    qi = int(input())\n",
    "    for j, time in enumerate(rt_cumsum):\n",
    "        # if j == len(rt_cumsum):\n",
    "        #     break\n",
    "        \n",
    "        if qi >= time and qi < rt_cumsum[j+1]:\n",
    "            score_number = j + 1\n",
    "            break\n",
    "    print(score_number)"
   ]
  },
  {
   "cell_type": "code",
   "execution_count": 8,
   "metadata": {},
   "outputs": [
    {
     "name": "stdout",
     "output_type": "stream",
     "text": [
      "23:52:30\n"
     ]
    }
   ],
   "source": [
    "# 1408: 24\n",
    "h1, m1, s1 = map(int, input().split(\":\"))\n",
    "h2, m2, s2 = map(int, input().split(\":\"))\n",
    "\n",
    "t = h2 * 3600 + m2 * 60 +s2 - (h1 * 3600 + m1 * 60 +s1)\n",
    "if t < 0:\n",
    "    t += 60 * 60 * 24\n",
    "h = t // 3600 \n",
    "m = (t % 3600) // 60 \n",
    "s = t % 60\n",
    "print(f\"{h:02d}:{m:02d}:{s:02d}\")"
   ]
  },
  {
   "cell_type": "code",
   "execution_count": 12,
   "metadata": {},
   "outputs": [
    {
     "name": "stdout",
     "output_type": "stream",
     "text": [
      "3\n"
     ]
    }
   ],
   "source": [
    "# 1434: 책 정리\n",
    "N, M = map(int, input().split())\n",
    "A = list(map(int, input().split())) # 박스 용량\n",
    "B = list(map(int, input().split())) # 책의 크기\n",
    "\n",
    "for j in range(M):\n",
    "    for i in range(N):\n",
    "        if B[j] <= A[i]:\n",
    "            A[i] -= B[j]\n",
    "            break\n",
    "        else:\n",
    "            pass\n",
    "print(sum(A))"
   ]
  },
  {
   "cell_type": "code",
   "execution_count": null,
   "metadata": {},
   "outputs": [],
   "source": []
  }
 ],
 "metadata": {
  "kernelspec": {
   "display_name": "base",
   "language": "python",
   "name": "python3"
  },
  "language_info": {
   "codemirror_mode": {
    "name": "ipython",
    "version": 3
   },
   "file_extension": ".py",
   "mimetype": "text/x-python",
   "name": "python",
   "nbconvert_exporter": "python",
   "pygments_lexer": "ipython3",
   "version": "3.10.9"
  },
  "orig_nbformat": 4
 },
 "nbformat": 4,
 "nbformat_minor": 2
}
