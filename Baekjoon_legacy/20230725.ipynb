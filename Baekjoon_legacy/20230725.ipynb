{
 "cells": [
  {
   "cell_type": "code",
   "execution_count": 1,
   "metadata": {},
   "outputs": [
    {
     "name": "stdout",
     "output_type": "stream",
     "text": [
      "10\n"
     ]
    }
   ],
   "source": [
    "# 1550: 16진수\n",
    "hexadec = input()\n",
    "print(int(hexadec, 16))"
   ]
  },
  {
   "cell_type": "code",
   "execution_count": 6,
   "metadata": {},
   "outputs": [
    {
     "name": "stdout",
     "output_type": "stream",
     "text": [
      "1465\n"
     ]
    }
   ],
   "source": [
    "# 1568: 새\n",
    "N = int(input())\n",
    "K = 1 # 이번 차례에 부를 숫자\n",
    "counter = 0\n",
    "while True:\n",
    "    if N <= 0:\n",
    "        break\n",
    "    if N < K:\n",
    "        K = 1\n",
    "    N -= K\n",
    "    K += 1\n",
    "    counter += 1\n",
    "print(counter)"
   ]
  },
  {
   "cell_type": "code",
   "execution_count": 15,
   "metadata": {},
   "outputs": [
    {
     "name": "stdout",
     "output_type": "stream",
     "text": [
      "15\n"
     ]
    }
   ],
   "source": [
    "# 1592: 영식이와 친구들\n",
    "N, M, L = map(int, input().split())\n",
    "balls = [1] + [0] * (N - 1) # 각자 공을 받은 횟수\n",
    "ball_now = 1 # 현재 공을 가진 사람의 번호\n",
    "counter = 0\n",
    "while True:\n",
    "    if M in balls:\n",
    "        break\n",
    "    if balls[ball_now - 1] % 2 == 1:\n",
    "         ball_now += L\n",
    "         if ball_now > N:\n",
    "             ball_now -= N\n",
    "    elif balls[ball_now - 1] % 2 == 0:\n",
    "        ball_now -= L\n",
    "        if ball_now < 1:\n",
    "            ball_now += N\n",
    "    balls[ball_now - 1] += 1\n",
    "    counter += 1\n",
    "print(counter)"
   ]
  },
  {
   "cell_type": "code",
   "execution_count": 20,
   "metadata": {},
   "outputs": [
    {
     "name": "stdout",
     "output_type": "stream",
     "text": [
      "4\n",
      "2\n"
     ]
    }
   ],
   "source": [
    "# 1668: 트로피 진열\n",
    "N = int(input())\n",
    "heights = []\n",
    "for i in range(N):\n",
    "    heights.append(int(input()))\n",
    "heights_reversed = heights[::-1].copy()\n",
    "for i in range(1, N):\n",
    "    if heights[i] <= max(heights[:i]):\n",
    "        heights[i] = 0\n",
    "for j in range(1, N):\n",
    "    if heights_reversed[j] <= max(heights_reversed[:j]):\n",
    "        heights_reversed[j] = 0\n",
    "heights = [height for height in heights if height > 0]\n",
    "heights_reversed = [height_r for height_r in heights_reversed if height_r > 0]\n",
    "print(len(heights))\n",
    "print(len(heights_reversed))"
   ]
  },
  {
   "cell_type": "code",
   "execution_count": null,
   "metadata": {},
   "outputs": [],
   "source": []
  }
 ],
 "metadata": {
  "kernelspec": {
   "display_name": "base",
   "language": "python",
   "name": "python3"
  },
  "language_info": {
   "codemirror_mode": {
    "name": "ipython",
    "version": 3
   },
   "file_extension": ".py",
   "mimetype": "text/x-python",
   "name": "python",
   "nbconvert_exporter": "python",
   "pygments_lexer": "ipython3",
   "version": "3.10.9"
  },
  "orig_nbformat": 4
 },
 "nbformat": 4,
 "nbformat_minor": 2
}
