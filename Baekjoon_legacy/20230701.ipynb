{
 "cells": [
  {
   "cell_type": "code",
   "execution_count": 1,
   "metadata": {},
   "outputs": [
    {
     "name": "stdout",
     "output_type": "stream",
     "text": [
      "YES\n",
      "NO\n"
     ]
    }
   ],
   "source": [
    "# 2547: 사탕 선생 고창영\n",
    "# 특이사항: 다국어 (영어)(한국어 번역)\n",
    "T = int(input())\n",
    "for i in range(T):\n",
    "    blank = input()\n",
    "    N = int(input())\n",
    "    candies = 0\n",
    "    for _ in range(N):\n",
    "        candies += int(input())\n",
    "    if candies % N == 0:\n",
    "        print(\"YES\")\n",
    "    else:\n",
    "        print(\"NO\")"
   ]
  },
  {
   "cell_type": "code",
   "execution_count": 2,
   "metadata": {},
   "outputs": [
    {
     "name": "stdout",
     "output_type": "stream",
     "text": [
      "9990\n",
      "100\n",
      "Not allowed\n"
     ]
    }
   ],
   "source": [
    "# 2975: Transactions\n",
    "# 특이사항: 다국어 (영어)\n",
    "while True:\n",
    "    input_string = input()\n",
    "    if input_string == \"0 W 0\":\n",
    "        break\n",
    "    s, action, a = input_string.split()\n",
    "    s, a = int(s), int(a)\n",
    "    if action == \"W\":\n",
    "        result = s - a\n",
    "        if result < -200:\n",
    "            print(\"Not allowed\")\n",
    "        else:\n",
    "            print(result)\n",
    "    elif action == \"D\":\n",
    "        result = s + a\n",
    "        print(result)"
   ]
  },
  {
   "cell_type": "code",
   "execution_count": 6,
   "metadata": {},
   "outputs": [
    {
     "name": "stdout",
     "output_type": "stream",
     "text": [
      "7\n"
     ]
    }
   ],
   "source": [
    "# 2997: 네 번째 수\n",
    "# 특이사항: 스페셜 저지, 다국어 (영어)(한국어 번역)\n",
    "a, b, c = map(int, input().split())\n",
    "list_int = sorted([a, b, c])\n",
    "a, b, c = list_int[0], list_int[1], list_int[2]\n",
    "d1 = b - a\n",
    "d2 = c - b\n",
    "if d1 < d2:\n",
    "    d = d1\n",
    "    print(c - d)\n",
    "elif d2 < d1:\n",
    "    d = d2\n",
    "    print(b - d)\n",
    "else:\n",
    "    if a - d1 < -100:\n",
    "        ans = c + d1\n",
    "    elif c + d1 > 100:\n",
    "        ans = a - d1\n",
    "    else:\n",
    "        ans = c + d1\n",
    "    print(ans)"
   ]
  },
  {
   "cell_type": "code",
   "execution_count": 9,
   "metadata": {},
   "outputs": [
    {
     "name": "stdout",
     "output_type": "stream",
     "text": [
      "6\n"
     ]
    }
   ],
   "source": [
    "# 3004: 체스판 조각\n",
    "# 특이사항: 다국어 (영어)(한국어 번역)\n",
    "N = int(input())\n",
    "if N % 2 == 0:\n",
    "    print((N // 2 + 1) ** 2)\n",
    "else:\n",
    "    print((N // 2 + 1) * (N // 2 + 2))"
   ]
  },
  {
   "cell_type": "code",
   "execution_count": null,
   "metadata": {},
   "outputs": [],
   "source": []
  }
 ],
 "metadata": {
  "kernelspec": {
   "display_name": "base",
   "language": "python",
   "name": "python3"
  },
  "language_info": {
   "codemirror_mode": {
    "name": "ipython",
    "version": 3
   },
   "file_extension": ".py",
   "mimetype": "text/x-python",
   "name": "python",
   "nbconvert_exporter": "python",
   "pygments_lexer": "ipython3",
   "version": "3.9.13"
  },
  "orig_nbformat": 4
 },
 "nbformat": 4,
 "nbformat_minor": 2
}
