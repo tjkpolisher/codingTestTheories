{
 "cells": [
  {
   "cell_type": "code",
   "execution_count": null,
   "metadata": {},
   "outputs": [],
   "source": [
    "# 10871\n",
    "N, X = map(int, input().split())\n",
    "A = list(map(int, input().split()))\n",
    "\n",
    "for i in range(N):\n",
    "    if A[i] < X:\n",
    "        print(A[i])"
   ]
  },
  {
   "cell_type": "code",
   "execution_count": null,
   "metadata": {},
   "outputs": [],
   "source": [
    "# 10807\n",
    "N = int(input())\n",
    "A = list(map(int, input().split()))\n",
    "v = int(input())\n",
    "print(A.count(v))"
   ]
  },
  {
   "cell_type": "code",
   "execution_count": null,
   "metadata": {},
   "outputs": [],
   "source": [
    "# 5597\n",
    "Stu = list(range(1, 31))\n",
    "for _ in range(28):\n",
    "    a = int(input())\n",
    "    Stu.remove(a)\n",
    "sorted(Stu)\n",
    "for i in range(len(Stu)):\n",
    "    print(Stu[i])"
   ]
  },
  {
   "cell_type": "code",
   "execution_count": null,
   "metadata": {},
   "outputs": [],
   "source": [
    "# 2738\n",
    "N, M = map(int, input().split())\n",
    "A = []; B = []\n",
    "for _ in range(N):\n",
    "    A.append(list(map(int, input().split())))\n",
    "for i in range(N):\n",
    "    elems = (list(map(int, input().split())))\n",
    "    for j in range(M):\n",
    "        A[i][j] += elems[j]\n",
    "        if j != 2:\n",
    "            print(A[i][j], end=' ')\n",
    "        else:\n",
    "            print(A[i][j])"
   ]
  },
  {
   "cell_type": "code",
   "execution_count": null,
   "metadata": {},
   "outputs": [],
   "source": [
    "# 11654\n",
    "print(ord(input()))"
   ]
  },
  {
   "cell_type": "code",
   "execution_count": null,
   "metadata": {},
   "outputs": [],
   "source": [
    "# 2743\n",
    "print(len(input()))"
   ]
  },
  {
   "cell_type": "code",
   "execution_count": null,
   "metadata": {},
   "outputs": [],
   "source": [
    "# 2744\n",
    "string = input()\n",
    "answer = []\n",
    "for i in range(len(string)):\n",
    "    if string[i].isupper():\n",
    "        answer.append(string[i].lower())\n",
    "    elif string[i].islower():\n",
    "        answer.append(string[i].upper())\n",
    "print(''.join(answer))"
   ]
  },
  {
   "cell_type": "code",
   "execution_count": null,
   "metadata": {},
   "outputs": [],
   "source": [
    "# 2754\n",
    "score_indiv = input()\n",
    "score = {'A+':4.3, 'A0':4.0, 'A-':3.7,\n",
    "         'B+':3.3, 'B0':3.0, 'B-':2.7,\n",
    "         'C+':2.3, 'C0':2.0, 'C-':1.7,\n",
    "         'D+':1.3, 'D0':1.0, 'D-':0.7,\n",
    "         'F':0.0}\n",
    "print(score[score_indiv])"
   ]
  },
  {
   "cell_type": "code",
   "execution_count": null,
   "metadata": {},
   "outputs": [],
   "source": [
    "# 27866\n",
    "S = input()\n",
    "i = int(input())\n",
    "print(S[i-1])"
   ]
  },
  {
   "cell_type": "code",
   "execution_count": null,
   "metadata": {},
   "outputs": [],
   "source": [
    "# 11718\n",
    "while True:\n",
    "    try:\n",
    "        string = input()\n",
    "        print(string)\n",
    "    except:\n",
    "        break"
   ]
  },
  {
   "cell_type": "code",
   "execution_count": 2,
   "metadata": {},
   "outputs": [
    {
     "name": "stdout",
     "output_type": "stream",
     "text": [
      "AE\n",
      "OO\n",
      "AB\n"
     ]
    }
   ],
   "source": [
    "# 9086\n",
    "number = int(input())\n",
    "for i in range(number):\n",
    "    string = input()\n",
    "    print(string[0], string[-1], sep='')"
   ]
  },
  {
   "cell_type": "code",
   "execution_count": 7,
   "metadata": {},
   "outputs": [
    {
     "name": "stdout",
     "output_type": "stream",
     "text": [
      "7\n"
     ]
    }
   ],
   "source": [
    "# 15964\n",
    "a, b = map(int, input().split())\n",
    "print((a + b) * (a - b))"
   ]
  },
  {
   "cell_type": "code",
   "execution_count": 8,
   "metadata": {},
   "outputs": [
    {
     "name": "stdout",
     "output_type": "stream",
     "text": [
      "1\n"
     ]
    }
   ],
   "source": [
    "# 2475\n",
    "a, b, c, d, e = map(int, input().split())\n",
    "v = (a ** 2 + b ** 2 + c ** 2 + d ** 2 + e ** 2) % 10\n",
    "print(v)"
   ]
  },
  {
   "cell_type": "code",
   "execution_count": 9,
   "metadata": {},
   "outputs": [
    {
     "name": "stdout",
     "output_type": "stream",
     "text": [
      "10\n",
      "0\n"
     ]
    }
   ],
   "source": [
    "# 1271\n",
    "a, b = map(int, input().split())\n",
    "print(a // b)\n",
    "print(a % b)"
   ]
  },
  {
   "cell_type": "code",
   "execution_count": 10,
   "metadata": {},
   "outputs": [
    {
     "name": "stdout",
     "output_type": "stream",
     "text": [
      "(___)\n",
      "(o o)____/\n",
      " @@      \\\n",
      "  \\ ____,/\n",
      "  //   //\n",
      " ^^   ^^\n"
     ]
    }
   ],
   "source": [
    "# 1809\n",
    "print('(___)')\n",
    "print('(o o)____/')\n",
    "print(' @@      \\\\')\n",
    "print('  \\\\ ____,/')\n",
    "print('  //   //')\n",
    "print(' ^^   ^^')"
   ]
  },
  {
   "cell_type": "code",
   "execution_count": 11,
   "metadata": {},
   "outputs": [
    {
     "name": "stdout",
     "output_type": "stream",
     "text": [
      "0\n",
      "2\n",
      "-1\n"
     ]
    }
   ],
   "source": [
    "# 2338\n",
    "A = int(input())\n",
    "B = int(input())\n",
    "print(A + B)\n",
    "print(A - B)\n",
    "print(A * B)"
   ]
  },
  {
   "cell_type": "code",
   "execution_count": 12,
   "metadata": {},
   "outputs": [
    {
     "name": "stdout",
     "output_type": "stream",
     "text": [
      "3\n"
     ]
    }
   ],
   "source": [
    "# 2558\n",
    "A = int(input())\n",
    "B = int(input())\n",
    "print(A + B)"
   ]
  },
  {
   "cell_type": "code",
   "execution_count": 13,
   "metadata": {},
   "outputs": [
    {
     "name": "stdout",
     "output_type": "stream",
     "text": [
      "1 0 0 0 0 1\n"
     ]
    }
   ],
   "source": [
    "a, b, c, d, e, f = map(int, input().split())\n",
    "k, q, l, bi, kn, p = 1, 1, 2, 2, 2, 8\n",
    "print(k-a, q-b, l-c, bi - d, kn - e, p - f)"
   ]
  },
  {
   "cell_type": "code",
   "execution_count": null,
   "metadata": {},
   "outputs": [],
   "source": [
    "# 3733\n",
    "while True:\n",
    "    try:\n",
    "        N, S = map(int, input().split())\n",
    "        print(S // (N + 1))\n",
    "    except:\n",
    "        break"
   ]
  },
  {
   "cell_type": "code",
   "execution_count": 16,
   "metadata": {},
   "outputs": [
    {
     "name": "stdout",
     "output_type": "stream",
     "text": [
      "SHIP NAME      CLASS          DEPLOYMENT IN SERVICE\n",
      "N2 Bomber      Heavy Fighter  Limited    21        \n",
      "J-Type 327     Light Combat   Unlimited  1         \n",
      "NX Cruiser     Medium Fighter Limited    18        \n",
      "N1 Starfighter Medium Fighter Unlimited  25        \n",
      "Royal Cruiser  Light Combat   Limited    4         \n"
     ]
    }
   ],
   "source": [
    "# 9654\n",
    "print(\"SHIP NAME      CLASS          DEPLOYMENT IN SERVICE\")\n",
    "print(\"N2 Bomber      Heavy Fighter  Limited    21        \")\n",
    "print(\"J-Type 327     Light Combat   Unlimited  1         \")\n",
    "print(\"NX Cruiser     Medium Fighter Limited    18        \")\n",
    "print(\"N1 Starfighter Medium Fighter Unlimited  25        \")\n",
    "print(\"Royal Cruiser  Light Combat   Limited    4         \")"
   ]
  },
  {
   "cell_type": "code",
   "execution_count": null,
   "metadata": {},
   "outputs": [],
   "source": []
  }
 ],
 "metadata": {
  "kernelspec": {
   "display_name": "base",
   "language": "python",
   "name": "python3"
  },
  "language_info": {
   "codemirror_mode": {
    "name": "ipython",
    "version": 3
   },
   "file_extension": ".py",
   "mimetype": "text/x-python",
   "name": "python",
   "nbconvert_exporter": "python",
   "pygments_lexer": "ipython3",
   "version": "3.10.9"
  },
  "orig_nbformat": 4
 },
 "nbformat": 4,
 "nbformat_minor": 2
}
