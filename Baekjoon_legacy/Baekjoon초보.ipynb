{
 "cells": [
  {
   "cell_type": "code",
   "execution_count": 1,
   "metadata": {},
   "outputs": [
    {
     "name": "stdout",
     "output_type": "stream",
     "text": [
      "1998\n"
     ]
    }
   ],
   "source": [
    "# 18108\n",
    "y = int(input())\n",
    "s = y - (2541-1998)\n",
    "print(s)"
   ]
  },
  {
   "cell_type": "code",
   "execution_count": 2,
   "metadata": {},
   "outputs": [
    {
     "name": "stdout",
     "output_type": "stream",
     "text": [
      "1\n",
      "1\n",
      "0\n",
      "0\n"
     ]
    }
   ],
   "source": [
    "# 10430\n",
    "A, B, C = map(int, input().split())\n",
    "print((A + B) % C)\n",
    "print(((A % C) + (B % C)) % C)\n",
    "print((A * B) % C)\n",
    "print(((A % C) * (B % C)) % C)"
   ]
  },
  {
   "cell_type": "code",
   "execution_count": 4,
   "metadata": {},
   "outputs": [
    {
     "name": "stdout",
     "output_type": "stream",
     "text": [
      "2360\n",
      "3776\n",
      "1416\n",
      "181720\n"
     ]
    }
   ],
   "source": [
    "# 2588\n",
    "A = int(input())\n",
    "B = input()\n",
    "n1, n2, n3 = int(B[-1]), int(B[-2]), int(B[-3])\n",
    "B = int(B)\n",
    "print(A * n1)\n",
    "print(A * n2)\n",
    "print(A * n3)\n",
    "print(A * B)"
   ]
  },
  {
   "cell_type": "code",
   "execution_count": 5,
   "metadata": {},
   "outputs": [
    {
     "name": "stdout",
     "output_type": "stream",
     "text": [
      "85\n",
      "8\n"
     ]
    }
   ],
   "source": [
    "# 2562\n",
    "maximum_index = 0\n",
    "maximum_num = 0\n",
    "for i in range(9):\n",
    "    new_num = int(input())\n",
    "    if i==0:\n",
    "        maximum_num = new_num\n",
    "        maximum_index = i + 1\n",
    "    else:\n",
    "        if maximum_num < new_num:\n",
    "            maximum_num = new_num\n",
    "            maximum_index = i + 1\n",
    "print(maximum_num)\n",
    "print(maximum_index)"
   ]
  },
  {
   "cell_type": "code",
   "execution_count": 2,
   "metadata": {},
   "outputs": [
    {
     "name": "stdout",
     "output_type": "stream",
     "text": [
      "AAABBBCCC\n",
      "/////HHHHHTTTTTPPPPP\n"
     ]
    }
   ],
   "source": [
    "# 2675\n",
    "T = int(input())\n",
    "for i in range(T):\n",
    "    R, S = input().split()\n",
    "    R = int(R)\n",
    "    answer = []\n",
    "    for j in range(len(S)):\n",
    "        answer.append(R * S[j])\n",
    "    print(''.join(answer))"
   ]
  },
  {
   "cell_type": "code",
   "execution_count": 3,
   "metadata": {},
   "outputs": [
    {
     "name": "stdout",
     "output_type": "stream",
     "text": [
      "7 35\n"
     ]
    }
   ],
   "source": [
    "# 10818\n",
    "N = int(input())\n",
    "num_list = list(map(int, input().split()))\n",
    "print(min(num_list), max(num_list), sep=' ')"
   ]
  },
  {
   "cell_type": "code",
   "execution_count": 7,
   "metadata": {},
   "outputs": [
    {
     "name": "stdout",
     "output_type": "stream",
     "text": [
      "46\n"
     ]
    }
   ],
   "source": [
    "# 11720\n",
    "N = int(input())\n",
    "nums = input()\n",
    "answer = 0\n",
    "for i in range(N):\n",
    "    answer += int(nums[i])\n",
    "print(answer)"
   ]
  },
  {
   "cell_type": "code",
   "execution_count": 8,
   "metadata": {},
   "outputs": [
    {
     "name": "stdout",
     "output_type": "stream",
     "text": [
      "    *\n",
      "   **\n",
      "  ***\n",
      " ****\n",
      "*****\n"
     ]
    }
   ],
   "source": [
    "# 2439\n",
    "N = int(input())\n",
    "for i in range(N):\n",
    "    string = ' ' * (N - (i + 1)) + '*' * (i + 1)\n",
    "    print(string)"
   ]
  },
  {
   "cell_type": "code",
   "execution_count": 10,
   "metadata": {},
   "outputs": [
    {
     "name": "stdout",
     "output_type": "stream",
     "text": [
      "6\n"
     ]
    }
   ],
   "source": [
    "# 1152\n",
    "words = list(input().split())\n",
    "print(len(words))"
   ]
  },
  {
   "cell_type": "code",
   "execution_count": 18,
   "metadata": {},
   "outputs": [
    {
     "name": "stdout",
     "output_type": "stream",
     "text": [
      "A\n"
     ]
    }
   ],
   "source": [
    "# 1157\n",
    "word = input().upper()\n",
    "letter_set = set(word)\n",
    "counter = []\n",
    "for i in range(len(letter_set)):\n",
    "    counter.append(word.count(list(letter_set)[i]))\n",
    "\n",
    "if counter.count(max(counter)) > 1:\n",
    "    print(\"?\")\n",
    "else:\n",
    "    print(list(letter_set)[counter.index(max(counter))])"
   ]
  },
  {
   "cell_type": "code",
   "execution_count": 35,
   "metadata": {},
   "outputs": [
    {
     "name": "stdout",
     "output_type": "stream",
     "text": [
      "3\n",
      "1\n",
      "0\n",
      "2\n",
      "0\n",
      "0\n",
      "0\n",
      "2\n",
      "0\n",
      "0\n"
     ]
    }
   ],
   "source": [
    "# 2577\n",
    "A = int(input())\n",
    "B = int(input())\n",
    "C = int(input())\n",
    "answer = str(A * B * C)\n",
    "numbers = list(range(10))\n",
    "for i in range(10):\n",
    "    print(answer.count(str(numbers[i])))"
   ]
  },
  {
   "cell_type": "code",
   "execution_count": 37,
   "metadata": {},
   "outputs": [
    {
     "name": "stdout",
     "output_type": "stream",
     "text": [
      "23 45\n"
     ]
    }
   ],
   "source": [
    "# 2884\n",
    "H, M = map(int, input().split())\n",
    "M -= 45\n",
    "if M < 0:\n",
    "    H -= 1\n",
    "    M += 60\n",
    "\n",
    "if H < 0:\n",
    "    H = 23\n",
    "    \n",
    "print(H, M)"
   ]
  },
  {
   "cell_type": "code",
   "execution_count": 43,
   "metadata": {},
   "outputs": [
    {
     "name": "stdout",
     "output_type": "stream",
     "text": [
      "mixed\n"
     ]
    }
   ],
   "source": [
    "# 2920\n",
    "scale = list(map(int, input().split()))\n",
    "boolean = []\n",
    "for i in range(1, len(scale)):\n",
    "    boolean.append(scale[i] > scale[i-1])\n",
    "if boolean.count(True)== 7:\n",
    "    print('ascending')\n",
    "elif boolean.count(False) == 7:\n",
    "    print('descending')\n",
    "else:\n",
    "    print('mixed')"
   ]
  },
  {
   "cell_type": "code",
   "execution_count": 46,
   "metadata": {},
   "outputs": [
    {
     "name": "stdout",
     "output_type": "stream",
     "text": [
      "1\n"
     ]
    }
   ],
   "source": [
    "# 3052\n",
    "residues = []\n",
    "while True:\n",
    "    try:\n",
    "        residue = int(input()) % 42\n",
    "        residues.append(residue)\n",
    "    except:\n",
    "        break\n",
    "print(len(set(residues)))"
   ]
  },
  {
   "cell_type": "code",
   "execution_count": 45,
   "metadata": {},
   "outputs": [
    {
     "data": {
      "text/plain": [
       "[1, 1, 2, 3, 4, 5, 6, 7, 8, 9, 10]"
      ]
     },
     "execution_count": 45,
     "metadata": {},
     "output_type": "execute_result"
    }
   ],
   "source": [
    "residues"
   ]
  },
  {
   "cell_type": "code",
   "execution_count": null,
   "metadata": {},
   "outputs": [],
   "source": []
  }
 ],
 "metadata": {
  "kernelspec": {
   "display_name": "base",
   "language": "python",
   "name": "python3"
  },
  "language_info": {
   "codemirror_mode": {
    "name": "ipython",
    "version": 3
   },
   "file_extension": ".py",
   "mimetype": "text/x-python",
   "name": "python",
   "nbconvert_exporter": "python",
   "pygments_lexer": "ipython3",
   "version": "3.10.9"
  },
  "orig_nbformat": 4
 },
 "nbformat": 4,
 "nbformat_minor": 2
}
