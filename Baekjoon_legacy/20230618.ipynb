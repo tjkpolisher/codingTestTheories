{
 "cells": [
  {
   "cell_type": "code",
   "execution_count": 2,
   "metadata": {},
   "outputs": [
    {
     "name": "stdout",
     "output_type": "stream",
     "text": [
      "watanabe\n",
      "ito\n",
      "yamamoto\n"
     ]
    }
   ],
   "source": [
    "# 5524: 입실 관리\n",
    "# 특이사항: 서브태스크, 다국어 (일본어)(한국어 번역)\n",
    "N = int(input())\n",
    "for i in range(N):\n",
    "    Si = input()\n",
    "    print(Si.lower())"
   ]
  },
  {
   "cell_type": "code",
   "execution_count": 8,
   "metadata": {},
   "outputs": [
    {
     "name": "stdout",
     "output_type": "stream",
     "text": [
      "7\n"
     ]
    }
   ],
   "source": [
    "# 5532: 방학 숙제\n",
    "# 특이사항: 다국어 (일본어)(한국어 번역)\n",
    "L = int(input())\n",
    "A = int(input())\n",
    "B = int(input())\n",
    "C = int(input())\n",
    "D = int(input())\n",
    "guk = A // C + 1 if A % C != 0 else A // C\n",
    "math_ = B // D + 1 if B % D !=0 else B // D\n",
    "homework = guk if guk >= math_ else math_\n",
    "print(L - homework)"
   ]
  },
  {
   "cell_type": "code",
   "execution_count": 11,
   "metadata": {},
   "outputs": [
    {
     "name": "stdout",
     "output_type": "stream",
     "text": [
      "150\n"
     ]
    }
   ],
   "source": [
    "# 5543: 상근날드\n",
    "# 특이사항: 다국어 (일본어)(한국어 번역)\n",
    "p1 = int(input()) # 상덕버거 가격\n",
    "p2 = int(input()) # 중덕버거 가격\n",
    "p3 = int(input()) # 하덕버거 가격\n",
    "p4 = int(input()) # 콜라 가격\n",
    "p5 = int(input()) # 사이다 가격\n",
    "burgers = [p1, p2, p3]\n",
    "beverage = [p4, p5]\n",
    "set_price = []\n",
    "for i in range(3):\n",
    "    for j in range(2):\n",
    "        set_price.append(burgers[i] + beverage[j] - 50)\n",
    "print(min(set_price))"
   ]
  },
  {
   "cell_type": "code",
   "execution_count": null,
   "metadata": {},
   "outputs": [],
   "source": []
  }
 ],
 "metadata": {
  "kernelspec": {
   "display_name": "base",
   "language": "python",
   "name": "python3"
  },
  "language_info": {
   "codemirror_mode": {
    "name": "ipython",
    "version": 3
   },
   "file_extension": ".py",
   "mimetype": "text/x-python",
   "name": "python",
   "nbconvert_exporter": "python",
   "pygments_lexer": "ipython3",
   "version": "3.9.13"
  },
  "orig_nbformat": 4
 },
 "nbformat": 4,
 "nbformat_minor": 2
}
