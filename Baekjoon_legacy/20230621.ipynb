{
 "cells": [
  {
   "cell_type": "code",
   "execution_count": null,
   "metadata": {},
   "outputs": [],
   "source": [
    "# 2010: 플러그\n",
    "# 특이사항: 다국어 (영어)(한국어 번역)\n",
    "import sys\n",
    "N = int(input())\n",
    "summation = 1\n",
    "for i in range(N):\n",
    "    summation += (int(sys.stdin.readline()) - 1)\n",
    "print(summation)"
   ]
  },
  {
   "cell_type": "code",
   "execution_count": 6,
   "metadata": {},
   "outputs": [
    {
     "name": "stdout",
     "output_type": "stream",
     "text": [
      "60466175\n"
     ]
    }
   ],
   "source": [
    "# 2745: 진법 변환\n",
    "N, B = input().split()\n",
    "B = int(B)\n",
    "order = list(\"0123456789ABCDEFGHIJKLMNOPQRSTUVWXYZ\")\n",
    "answer = 0\n",
    "for i in range(len(N)):\n",
    "    num = N[-(i+1)]\n",
    "    answer += order.index(num) * (B**i)\n",
    "print(answer)"
   ]
  },
  {
   "cell_type": "code",
   "execution_count": 15,
   "metadata": {},
   "outputs": [
    {
     "name": "stdout",
     "output_type": "stream",
     "text": [
      "    *\n",
      "   ***\n",
      "  *****\n",
      " *******\n",
      "*********\n"
     ]
    }
   ],
   "source": [
    "# 2442: 별 찍기 - 5\n",
    "# 특이사항: 가운데 정렬 후 rstrip()으로 공백 제거 필요\n",
    "N = int(input())\n",
    "for i in range(N):\n",
    "    str = '*' * (2 * i + 1)\n",
    "    ans = str.center(2*N - 1).rstrip()\n",
    "\n",
    "    print(ans)"
   ]
  },
  {
   "cell_type": "code",
   "execution_count": null,
   "metadata": {},
   "outputs": [],
   "source": []
  }
 ],
 "metadata": {
  "kernelspec": {
   "display_name": "base",
   "language": "python",
   "name": "python3"
  },
  "language_info": {
   "codemirror_mode": {
    "name": "ipython",
    "version": 3
   },
   "file_extension": ".py",
   "mimetype": "text/x-python",
   "name": "python",
   "nbconvert_exporter": "python",
   "pygments_lexer": "ipython3",
   "version": "3.10.9"
  },
  "orig_nbformat": 4
 },
 "nbformat": 4,
 "nbformat_minor": 2
}
